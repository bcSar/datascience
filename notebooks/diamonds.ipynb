{
  "cells": [
    {
      "cell_type": "code",
      "execution_count": null,
      "id": "ea3dbd71",
      "metadata": {
        "id": "ea3dbd71",
        "outputId": "ba5e7265-3d91-455e-bb76-0d7ca311d361"
      },
      "outputs": [
        {
          "name": "stdout",
          "output_type": "stream",
          "text": [
            "WARNING:tensorflow:From D:\\mamba\\lib\\site-packages\\keras\\src\\losses.py:2976: The name tf.losses.sparse_softmax_cross_entropy is deprecated. Please use tf.compat.v1.losses.sparse_softmax_cross_entropy instead.\n",
            "\n"
          ]
        }
      ],
      "source": [
        "import warnings\n",
        "warnings.simplefilter(action='ignore', category=FutureWarning)\n",
        "\n",
        "import pandas as pd\n",
        "import seaborn as sns\n",
        "import numpy as np\n",
        "import matplotlib.pyplot as plt\n",
        "\n",
        "from scipy import stats\n",
        "\n",
        "from sklearn.preprocessing import StandardScaler\n",
        "from sklearn.preprocessing import OrdinalEncoder\n",
        "from sklearn.model_selection import train_test_split\n",
        "\n",
        "from sklearn.linear_model import LinearRegression\n",
        "from  sklearn.neighbors import KNeighborsRegressor\n",
        "from sklearn.ensemble import RandomForestRegressor\n",
        "from catboost import CatBoostRegressor\n",
        "\n",
        "from sklearn.metrics import mean_absolute_percentage_error\n",
        "from sklearn.metrics import mean_squared_error\n",
        "\n",
        "from tensorflow.keras.models import Sequential\n",
        "from tensorflow.keras.layers import Dense\n",
        "import tensorflow as tf\n"
      ]
    },
    {
      "cell_type": "markdown",
      "id": "4c6e38b3",
      "metadata": {
        "id": "4c6e38b3"
      },
      "source": [
        "<h3><font color='dodgerblue'>ИМПОРТ ДАННЫХ</font></h3>"
      ]
    },
    {
      "cell_type": "code",
      "execution_count": null,
      "id": "c59a185b",
      "metadata": {
        "id": "c59a185b"
      },
      "outputs": [],
      "source": [
        "#загрузим данные, содержащие информацию об алмазах\n",
        "diamonds_df = pd.read_csv('diamonds.csv')\n",
        "#ссылка на данные: https://www.kaggle.com/datasets/shivam2503/diamonds"
      ]
    },
    {
      "cell_type": "code",
      "execution_count": null,
      "id": "af540aa9",
      "metadata": {
        "id": "af540aa9",
        "outputId": "752284a5-78d1-4785-e9da-a963bef5f015"
      },
      "outputs": [
        {
          "data": {
            "text/html": [
              "<div>\n",
              "<style scoped>\n",
              "    .dataframe tbody tr th:only-of-type {\n",
              "        vertical-align: middle;\n",
              "    }\n",
              "\n",
              "    .dataframe tbody tr th {\n",
              "        vertical-align: top;\n",
              "    }\n",
              "\n",
              "    .dataframe thead th {\n",
              "        text-align: right;\n",
              "    }\n",
              "</style>\n",
              "<table border=\"1\" class=\"dataframe\">\n",
              "  <thead>\n",
              "    <tr style=\"text-align: right;\">\n",
              "      <th></th>\n",
              "      <th>Unnamed: 0</th>\n",
              "      <th>carat</th>\n",
              "      <th>cut</th>\n",
              "      <th>color</th>\n",
              "      <th>clarity</th>\n",
              "      <th>depth</th>\n",
              "      <th>table</th>\n",
              "      <th>price</th>\n",
              "      <th>x</th>\n",
              "      <th>y</th>\n",
              "      <th>z</th>\n",
              "    </tr>\n",
              "  </thead>\n",
              "  <tbody>\n",
              "    <tr>\n",
              "      <th>46779</th>\n",
              "      <td>46780</td>\n",
              "      <td>0.54</td>\n",
              "      <td>Ideal</td>\n",
              "      <td>G</td>\n",
              "      <td>VS1</td>\n",
              "      <td>61.8</td>\n",
              "      <td>55.3</td>\n",
              "      <td>1804</td>\n",
              "      <td>5.22</td>\n",
              "      <td>5.24</td>\n",
              "      <td>3.23</td>\n",
              "    </tr>\n",
              "    <tr>\n",
              "      <th>50515</th>\n",
              "      <td>50516</td>\n",
              "      <td>0.70</td>\n",
              "      <td>Very Good</td>\n",
              "      <td>H</td>\n",
              "      <td>SI1</td>\n",
              "      <td>60.9</td>\n",
              "      <td>59.0</td>\n",
              "      <td>2273</td>\n",
              "      <td>5.72</td>\n",
              "      <td>5.75</td>\n",
              "      <td>3.49</td>\n",
              "    </tr>\n",
              "    <tr>\n",
              "      <th>35026</th>\n",
              "      <td>35027</td>\n",
              "      <td>0.40</td>\n",
              "      <td>Premium</td>\n",
              "      <td>E</td>\n",
              "      <td>SI1</td>\n",
              "      <td>62.2</td>\n",
              "      <td>62.0</td>\n",
              "      <td>882</td>\n",
              "      <td>4.69</td>\n",
              "      <td>4.66</td>\n",
              "      <td>2.91</td>\n",
              "    </tr>\n",
              "    <tr>\n",
              "      <th>9283</th>\n",
              "      <td>9284</td>\n",
              "      <td>1.04</td>\n",
              "      <td>Ideal</td>\n",
              "      <td>G</td>\n",
              "      <td>SI2</td>\n",
              "      <td>60.4</td>\n",
              "      <td>58.0</td>\n",
              "      <td>4566</td>\n",
              "      <td>6.56</td>\n",
              "      <td>6.62</td>\n",
              "      <td>3.98</td>\n",
              "    </tr>\n",
              "    <tr>\n",
              "      <th>10339</th>\n",
              "      <td>10340</td>\n",
              "      <td>1.01</td>\n",
              "      <td>Ideal</td>\n",
              "      <td>H</td>\n",
              "      <td>SI1</td>\n",
              "      <td>61.9</td>\n",
              "      <td>58.0</td>\n",
              "      <td>4767</td>\n",
              "      <td>6.42</td>\n",
              "      <td>6.48</td>\n",
              "      <td>3.99</td>\n",
              "    </tr>\n",
              "  </tbody>\n",
              "</table>\n",
              "</div>"
            ],
            "text/plain": [
              "       Unnamed: 0  carat        cut color clarity  depth  table  price     x  \\\n",
              "46779       46780   0.54      Ideal     G     VS1   61.8   55.3   1804  5.22   \n",
              "50515       50516   0.70  Very Good     H     SI1   60.9   59.0   2273  5.72   \n",
              "35026       35027   0.40    Premium     E     SI1   62.2   62.0    882  4.69   \n",
              "9283         9284   1.04      Ideal     G     SI2   60.4   58.0   4566  6.56   \n",
              "10339       10340   1.01      Ideal     H     SI1   61.9   58.0   4767  6.42   \n",
              "\n",
              "          y     z  \n",
              "46779  5.24  3.23  \n",
              "50515  5.75  3.49  \n",
              "35026  4.66  2.91  \n",
              "9283   6.62  3.98  \n",
              "10339  6.48  3.99  "
            ]
          },
          "execution_count": 3,
          "metadata": {},
          "output_type": "execute_result"
        }
      ],
      "source": [
        "#посмотрим на данные\n",
        "diamonds_df.sample(5)"
      ]
    },
    {
      "cell_type": "markdown",
      "id": "050618bc",
      "metadata": {
        "id": "050618bc"
      },
      "source": [
        "<h3><font color='dodgerblue'>ПРЕДОБРАБОТКА ДАННЫХ</font></h3>"
      ]
    },
    {
      "cell_type": "markdown",
      "id": "0d56bf43",
      "metadata": {
        "id": "0d56bf43"
      },
      "source": [
        "<p style='border:2px black solid; padding:10px'>Дубликаты</p>\n",
        ""
      ]
    },
    {
      "cell_type": "code",
      "execution_count": null,
      "id": "a2cf834d",
      "metadata": {
        "id": "a2cf834d",
        "outputId": "d77526de-034c-4bdd-bfb6-87ce479333b5"
      },
      "outputs": [
        {
          "data": {
            "text/plain": [
              "0"
            ]
          },
          "execution_count": 4,
          "metadata": {},
          "output_type": "execute_result"
        }
      ],
      "source": [
        "#проверим на дубликаты\n",
        "diamonds_df.duplicated().sum()"
      ]
    },
    {
      "cell_type": "markdown",
      "id": "3c3127f3",
      "metadata": {
        "id": "3c3127f3"
      },
      "source": [
        "<u>Дубликатов не наблюдается.</u>"
      ]
    },
    {
      "cell_type": "markdown",
      "id": "ba6dbb10",
      "metadata": {
        "id": "ba6dbb10"
      },
      "source": [
        "<p style='border:2px black solid; padding:10px'>Пропуски</p>\n",
        ""
      ]
    },
    {
      "cell_type": "code",
      "execution_count": null,
      "id": "e04bd55b",
      "metadata": {
        "id": "e04bd55b",
        "outputId": "6a706540-4dd6-417d-f08e-27cbd4013a02"
      },
      "outputs": [
        {
          "data": {
            "text/plain": [
              "Unnamed: 0    0\n",
              "carat         0\n",
              "cut           0\n",
              "color         0\n",
              "clarity       0\n",
              "depth         0\n",
              "table         0\n",
              "price         0\n",
              "x             0\n",
              "y             0\n",
              "z             0\n",
              "dtype: int64"
            ]
          },
          "execution_count": 5,
          "metadata": {},
          "output_type": "execute_result"
        }
      ],
      "source": [
        "#посмотрим на количество пропусков\n",
        "diamonds_df.isna().sum()"
      ]
    },
    {
      "cell_type": "markdown",
      "id": "a0cf6d1f",
      "metadata": {
        "id": "a0cf6d1f"
      },
      "source": [
        "<u>Пропусков не наблюдается.</u>"
      ]
    },
    {
      "cell_type": "markdown",
      "id": "e5cbdbfa",
      "metadata": {
        "id": "e5cbdbfa"
      },
      "source": [
        "<p style='border:2px black solid; padding:10px'>Колонки</p>"
      ]
    },
    {
      "cell_type": "code",
      "execution_count": null,
      "id": "6cf626c5",
      "metadata": {
        "id": "6cf626c5",
        "outputId": "1da505e9-4d04-46bc-d2f2-143cd8b201f7"
      },
      "outputs": [
        {
          "data": {
            "text/plain": [
              "Index(['Unnamed: 0', 'carat', 'cut', 'color', 'clarity', 'depth', 'table',\n",
              "       'price', 'x', 'y', 'z'],\n",
              "      dtype='object')"
            ]
          },
          "execution_count": 6,
          "metadata": {},
          "output_type": "execute_result"
        }
      ],
      "source": [
        "#посмотрим на названия колонок\n",
        "diamonds_df.columns"
      ]
    },
    {
      "cell_type": "markdown",
      "id": "5067069b",
      "metadata": {
        "id": "5067069b"
      },
      "source": [
        "<u>Видим что один столбец лишний (Unnamed 0).</u>"
      ]
    },
    {
      "cell_type": "code",
      "execution_count": null,
      "id": "d63864b1",
      "metadata": {
        "id": "d63864b1"
      },
      "outputs": [],
      "source": [
        "#удалим его\n",
        "diamonds_df.drop('Unnamed: 0', axis=1, inplace=True)"
      ]
    },
    {
      "cell_type": "code",
      "execution_count": null,
      "id": "3e7d2ca2",
      "metadata": {
        "id": "3e7d2ca2",
        "outputId": "569349a9-a5b0-4790-ebbd-5616d458df7b"
      },
      "outputs": [
        {
          "data": {
            "text/plain": [
              "Index(['carat', 'cut', 'color', 'clarity', 'depth', 'table', 'price', 'x', 'y',\n",
              "       'z'],\n",
              "      dtype='object')"
            ]
          },
          "execution_count": 8,
          "metadata": {},
          "output_type": "execute_result"
        }
      ],
      "source": [
        "#проверим\n",
        "diamonds_df.columns"
      ]
    },
    {
      "cell_type": "markdown",
      "id": "174c3ca3",
      "metadata": {
        "id": "174c3ca3"
      },
      "source": [
        "<h3><font color='dodgerblue'>АНАЛИЗ ДАННЫХ</font></h3>"
      ]
    },
    {
      "cell_type": "code",
      "execution_count": null,
      "id": "ec245803",
      "metadata": {
        "id": "ec245803",
        "outputId": "d0561c72-eef3-479c-baac-7feb3e154809"
      },
      "outputs": [
        {
          "data": {
            "text/plain": [
              "(53940, 10)"
            ]
          },
          "execution_count": 9,
          "metadata": {},
          "output_type": "execute_result"
        }
      ],
      "source": [
        "#посмотрим на размерность\n",
        "diamonds_df.shape"
      ]
    },
    {
      "cell_type": "markdown",
      "id": "db09852f",
      "metadata": {
        "id": "db09852f"
      },
      "source": [
        "<u>В нашей таблице всего 10 признаков и 53940 наблюдений.</u>"
      ]
    },
    {
      "cell_type": "code",
      "execution_count": null,
      "id": "e02a075a",
      "metadata": {
        "id": "e02a075a",
        "outputId": "21b891e3-0f0c-429e-ad08-7d3ed6002575"
      },
      "outputs": [
        {
          "name": "stdout",
          "output_type": "stream",
          "text": [
            "<class 'pandas.core.frame.DataFrame'>\n",
            "RangeIndex: 53940 entries, 0 to 53939\n",
            "Data columns (total 10 columns):\n",
            " #   Column   Non-Null Count  Dtype  \n",
            "---  ------   --------------  -----  \n",
            " 0   carat    53940 non-null  float64\n",
            " 1   cut      53940 non-null  object \n",
            " 2   color    53940 non-null  object \n",
            " 3   clarity  53940 non-null  object \n",
            " 4   depth    53940 non-null  float64\n",
            " 5   table    53940 non-null  float64\n",
            " 6   price    53940 non-null  int64  \n",
            " 7   x        53940 non-null  float64\n",
            " 8   y        53940 non-null  float64\n",
            " 9   z        53940 non-null  float64\n",
            "dtypes: float64(6), int64(1), object(3)\n",
            "memory usage: 4.1+ MB\n"
          ]
        }
      ],
      "source": [
        "#посмотрим на типы данных\n",
        "diamonds_df.info()"
      ]
    },
    {
      "cell_type": "markdown",
      "id": "024619c1",
      "metadata": {
        "id": "024619c1"
      },
      "source": [
        "<u>Шесть признаков представлены в виде float, один - int и 3 object.</u>"
      ]
    },
    {
      "cell_type": "code",
      "execution_count": null,
      "id": "98c38d9b",
      "metadata": {
        "id": "98c38d9b",
        "outputId": "6a901f24-7aff-47d5-c7df-17a0bee7264c"
      },
      "outputs": [
        {
          "data": {
            "text/html": [
              "<div>\n",
              "<style scoped>\n",
              "    .dataframe tbody tr th:only-of-type {\n",
              "        vertical-align: middle;\n",
              "    }\n",
              "\n",
              "    .dataframe tbody tr th {\n",
              "        vertical-align: top;\n",
              "    }\n",
              "\n",
              "    .dataframe thead th {\n",
              "        text-align: right;\n",
              "    }\n",
              "</style>\n",
              "<table border=\"1\" class=\"dataframe\">\n",
              "  <thead>\n",
              "    <tr style=\"text-align: right;\">\n",
              "      <th></th>\n",
              "      <th>carat</th>\n",
              "      <th>depth</th>\n",
              "      <th>table</th>\n",
              "      <th>price</th>\n",
              "      <th>x</th>\n",
              "      <th>y</th>\n",
              "      <th>z</th>\n",
              "    </tr>\n",
              "  </thead>\n",
              "  <tbody>\n",
              "    <tr>\n",
              "      <th>count</th>\n",
              "      <td>53940.000000</td>\n",
              "      <td>53940.000000</td>\n",
              "      <td>53940.000000</td>\n",
              "      <td>53940.000000</td>\n",
              "      <td>53940.000000</td>\n",
              "      <td>53940.000000</td>\n",
              "      <td>53940.000000</td>\n",
              "    </tr>\n",
              "    <tr>\n",
              "      <th>mean</th>\n",
              "      <td>0.797940</td>\n",
              "      <td>61.749405</td>\n",
              "      <td>57.457184</td>\n",
              "      <td>3932.799722</td>\n",
              "      <td>5.731157</td>\n",
              "      <td>5.734526</td>\n",
              "      <td>3.538734</td>\n",
              "    </tr>\n",
              "    <tr>\n",
              "      <th>std</th>\n",
              "      <td>0.474011</td>\n",
              "      <td>1.432621</td>\n",
              "      <td>2.234491</td>\n",
              "      <td>3989.439738</td>\n",
              "      <td>1.121761</td>\n",
              "      <td>1.142135</td>\n",
              "      <td>0.705699</td>\n",
              "    </tr>\n",
              "    <tr>\n",
              "      <th>min</th>\n",
              "      <td>0.200000</td>\n",
              "      <td>43.000000</td>\n",
              "      <td>43.000000</td>\n",
              "      <td>326.000000</td>\n",
              "      <td>0.000000</td>\n",
              "      <td>0.000000</td>\n",
              "      <td>0.000000</td>\n",
              "    </tr>\n",
              "    <tr>\n",
              "      <th>25%</th>\n",
              "      <td>0.400000</td>\n",
              "      <td>61.000000</td>\n",
              "      <td>56.000000</td>\n",
              "      <td>950.000000</td>\n",
              "      <td>4.710000</td>\n",
              "      <td>4.720000</td>\n",
              "      <td>2.910000</td>\n",
              "    </tr>\n",
              "    <tr>\n",
              "      <th>50%</th>\n",
              "      <td>0.700000</td>\n",
              "      <td>61.800000</td>\n",
              "      <td>57.000000</td>\n",
              "      <td>2401.000000</td>\n",
              "      <td>5.700000</td>\n",
              "      <td>5.710000</td>\n",
              "      <td>3.530000</td>\n",
              "    </tr>\n",
              "    <tr>\n",
              "      <th>75%</th>\n",
              "      <td>1.040000</td>\n",
              "      <td>62.500000</td>\n",
              "      <td>59.000000</td>\n",
              "      <td>5324.250000</td>\n",
              "      <td>6.540000</td>\n",
              "      <td>6.540000</td>\n",
              "      <td>4.040000</td>\n",
              "    </tr>\n",
              "    <tr>\n",
              "      <th>max</th>\n",
              "      <td>5.010000</td>\n",
              "      <td>79.000000</td>\n",
              "      <td>95.000000</td>\n",
              "      <td>18823.000000</td>\n",
              "      <td>10.740000</td>\n",
              "      <td>58.900000</td>\n",
              "      <td>31.800000</td>\n",
              "    </tr>\n",
              "  </tbody>\n",
              "</table>\n",
              "</div>"
            ],
            "text/plain": [
              "              carat         depth         table         price             x  \\\n",
              "count  53940.000000  53940.000000  53940.000000  53940.000000  53940.000000   \n",
              "mean       0.797940     61.749405     57.457184   3932.799722      5.731157   \n",
              "std        0.474011      1.432621      2.234491   3989.439738      1.121761   \n",
              "min        0.200000     43.000000     43.000000    326.000000      0.000000   \n",
              "25%        0.400000     61.000000     56.000000    950.000000      4.710000   \n",
              "50%        0.700000     61.800000     57.000000   2401.000000      5.700000   \n",
              "75%        1.040000     62.500000     59.000000   5324.250000      6.540000   \n",
              "max        5.010000     79.000000     95.000000  18823.000000     10.740000   \n",
              "\n",
              "                  y             z  \n",
              "count  53940.000000  53940.000000  \n",
              "mean       5.734526      3.538734  \n",
              "std        1.142135      0.705699  \n",
              "min        0.000000      0.000000  \n",
              "25%        4.720000      2.910000  \n",
              "50%        5.710000      3.530000  \n",
              "75%        6.540000      4.040000  \n",
              "max       58.900000     31.800000  "
            ]
          },
          "execution_count": 11,
          "metadata": {},
          "output_type": "execute_result"
        }
      ],
      "source": [
        "#посмотрим на основные статистические показатели\n",
        "diamonds_df.describe()"
      ]
    },
    {
      "cell_type": "markdown",
      "id": "9ddd6205",
      "metadata": {
        "id": "9ddd6205"
      },
      "source": [
        "По данной табличке можно сделать следующие выводы:\n",
        "<br><u>1.</u> Цена на алмазы варьируется от 326 долларов до 19 тыс<br>\n",
        "<u>2.</u> Количество карат варьируется от 0.2 до 5 <br>\n",
        "<u>3.</u> В среднем площадка(table) бриллиантов, выраженная в процентах от его среднего диаметра составляет 57% <br>\n",
        "<u>4.</u> В среднем высота(depth) бриллиантов, измеренная от калетты до площадки, деленная на средний диаметр его пояска составляет 62% <br>\n",
        "<u>5.</u> В среднем длина(x) бриллиантов составляет 5.7 мм <br>\n",
        "<u>6.</u> В среднем ширина(y)(иначе диаметр) бриллиантов составляет 5.7 мм <br>\n",
        "<u>7.</u> В среднем высота(z) бриллиантов составляет 3.53 мм <br>\n"
      ]
    },
    {
      "cell_type": "markdown",
      "id": "1c16911d",
      "metadata": {
        "id": "1c16911d"
      },
      "source": [
        "<p style='border:2px black solid; padding:10px'>Визуализация</p>"
      ]
    },
    {
      "cell_type": "code",
      "execution_count": null,
      "id": "5587e730",
      "metadata": {
        "id": "5587e730",
        "outputId": "8c300298-8eac-423b-a49c-8b3d34c47adb"
      },
      "outputs": [
        {
          "data": {
            "image/png": "[encoded data removed]",
            "text/plain": [
              "<Figure size 1500x500 with 1 Axes>"
            ]
          },
          "metadata": {},
          "output_type": "display_data"
        }
      ],
      "source": [
        "#посмотрим распределение количества карат\n",
        "plt.figure(figsize=(15, 5))\n",
        "sns.histplot(diamonds_df.carat, color='limegreen')\n",
        "plt.xlabel('Караты')\n",
        "plt.ylabel('Количество')\n",
        "plt.title('Количество карат');"
      ]
    },
    {
      "cell_type": "markdown",
      "id": "7ab0a93b",
      "metadata": {
        "id": "7ab0a93b"
      },
      "source": [
        "<u>У нас довольно большой заброс. Справа длинный хвост. Большинство значений сосредоточены в диапазоне от 0-2</u>"
      ]
    },
    {
      "cell_type": "code",
      "execution_count": null,
      "id": "3f1d0847",
      "metadata": {
        "id": "3f1d0847",
        "outputId": "7a37ecf6-8b85-46f4-c325-44bf9a051f9f"
      },
      "outputs": [
        {
          "data": {
            "text/plain": [
              "0.7"
            ]
          },
          "execution_count": 13,
          "metadata": {},
          "output_type": "execute_result"
        }
      ],
      "source": [
        "#выведем среднее\n",
        "diamonds_df.carat.median()"
      ]
    },
    {
      "cell_type": "markdown",
      "id": "f402e29a",
      "metadata": {
        "id": "f402e29a"
      },
      "source": [
        "<u>В среднем алмазы весят 0.7 карат</u>"
      ]
    },
    {
      "cell_type": "code",
      "execution_count": null,
      "id": "5e6d5e2a",
      "metadata": {
        "id": "5e6d5e2a",
        "outputId": "3dcefb58-de9e-4201-e042-30172e01d08f"
      },
      "outputs": [
        {
          "data": {
            "image/png": "[encoded data removed]",
            "text/plain": [
              "<Figure size 300x300 with 1 Axes>"
            ]
          },
          "metadata": {},
          "output_type": "display_data"
        }
      ],
      "source": [
        "#посмотрим для данной фичи ящик с усами\n",
        "plt.figure(figsize=(3, 3))\n",
        "sns.boxplot(diamonds_df.carat, color='purple');"
      ]
    },
    {
      "cell_type": "markdown",
      "id": "102182aa",
      "metadata": {
        "id": "102182aa"
      },
      "source": [
        "<u>На графике видно что у нас довольно сильные выбросы. Сосредоточены они за пределамы верхнего квартиля.</u>"
      ]
    },
    {
      "cell_type": "code",
      "execution_count": null,
      "id": "1eec13c9",
      "metadata": {
        "id": "1eec13c9",
        "outputId": "66d2ae5e-fe1a-4eed-8b5c-f8351145e698"
      },
      "outputs": [
        {
          "data": {
            "image/png": "[encoded data removed]",
            "text/plain": [
              "<Figure size 500x300 with 1 Axes>"
            ]
          },
          "metadata": {},
          "output_type": "display_data"
        }
      ],
      "source": [
        "#посмотрим на  качество огранки алмаза\n",
        "plt.figure(figsize=(5, 3))\n",
        "sns.countplot(x=diamonds_df.cut, palette='rainbow')\n",
        "plt.title('Качество огранки алмаза')\n",
        "plt.xlabel('Качество')\n",
        "plt.ylabel('Количество');"
      ]
    },
    {
      "cell_type": "markdown",
      "id": "77f332fe",
      "metadata": {
        "id": "77f332fe"
      },
      "source": [
        "<u>Очень мало алмазов с плохим качеством. Больше всего со значением качества 'ideal', т.е. самое лучшее.</u>"
      ]
    },
    {
      "cell_type": "code",
      "execution_count": null,
      "id": "c01e033c",
      "metadata": {
        "id": "c01e033c",
        "outputId": "6bcebc38-ce55-4efe-c8b3-c655bb9f84fa"
      },
      "outputs": [
        {
          "data": {
            "image/png": "[encoded data removed]",
            "text/plain": [
              "<Figure size 500x300 with 1 Axes>"
            ]
          },
          "metadata": {},
          "output_type": "display_data"
        }
      ],
      "source": [
        "#посмотрим на цвет алмаза\n",
        "plt.figure(figsize=(5, 3))\n",
        "sns.countplot(x=diamonds_df.color, palette='rainbow')\n",
        "plt.title('Цвет алмаза')\n",
        "plt.xlabel('Цвет')\n",
        "plt.ylabel('Количество');"
      ]
    },
    {
      "cell_type": "markdown",
      "id": "8660ab16",
      "metadata": {
        "id": "8660ab16"
      },
      "source": [
        "<u>Цвета у нас варьируются от D к J(от худшего к лучшему). DEF - бесцветные. GHIJ - почти бесцветные. Разобьем на два класса для лучшей интерпретации.</u>"
      ]
    },
    {
      "cell_type": "code",
      "execution_count": null,
      "id": "f92a6f8c",
      "metadata": {
        "id": "f92a6f8c",
        "outputId": "f847ea26-151f-4fe3-d65a-7ce6c022a114"
      },
      "outputs": [
        {
          "data": {
            "image/png": "[encoded data removed]",
            "text/plain": [
              "<Figure size 300x300 with 1 Axes>"
            ]
          },
          "metadata": {},
          "output_type": "display_data"
        }
      ],
      "source": [
        "#посмотрим на цвет алмаза\n",
        "plt.figure(figsize=(3, 3))\n",
        "sns.countplot(x=diamonds_df.color.\\\n",
        "              map(lambda x: 'near-colorless' if x > 'F' else 'colorless'),\n",
        "              palette=['lightcyan', 'paleturquoise'])\n",
        "plt.title('Цвет алмаза')\n",
        "plt.xlabel('Цвет')\n",
        "plt.ylabel('Количество');"
      ]
    },
    {
      "cell_type": "markdown",
      "id": "e8314deb",
      "metadata": {
        "id": "e8314deb"
      },
      "source": [
        "<u>Как видим больше алмазов качеством чуть пониже, но в целом разницы значимой нет.</u>"
      ]
    },
    {
      "cell_type": "code",
      "execution_count": null,
      "id": "76807c17",
      "metadata": {
        "id": "76807c17",
        "outputId": "71f55592-f025-4a33-8dc9-3a89d4992c6b"
      },
      "outputs": [
        {
          "data": {
            "image/png": "[encoded data removed]",
            "text/plain": [
              "<Figure size 500x300 with 1 Axes>"
            ]
          },
          "metadata": {},
          "output_type": "display_data"
        }
      ],
      "source": [
        "#включения бриллианта\n",
        "plt.figure(figsize=(5, 3))\n",
        "sns.countplot(x=diamonds_df.clarity, palette='rainbow')\n",
        "plt.title('Включения бриллианта')\n",
        "plt.xlabel('Тип')\n",
        "plt.ylabel('Количество');"
      ]
    },
    {
      "cell_type": "markdown",
      "id": "ca69fb30",
      "metadata": {
        "id": "ca69fb30"
      },
      "source": [
        "<u>От лучшего к худшему :  IF, VVS1, VVS2, VS1, VS2, SI1, SI2, I1. Большинство варьируются от среднего качества к плохому. </u>"
      ]
    },
    {
      "cell_type": "code",
      "execution_count": null,
      "id": "3929dac6",
      "metadata": {
        "id": "3929dac6",
        "outputId": "12870b6c-47a0-43a2-f06f-58ab369a033d"
      },
      "outputs": [
        {
          "data": {
            "text/plain": [
              "clarity\n",
              "SI1     13065\n",
              "VS2     12258\n",
              "SI2      9194\n",
              "VS1      8171\n",
              "VVS2     5066\n",
              "VVS1     3655\n",
              "IF       1790\n",
              "I1        741\n",
              "Name: count, dtype: int64"
            ]
          },
          "execution_count": 19,
          "metadata": {},
          "output_type": "execute_result"
        }
      ],
      "source": [
        "#более детально это можно посмотреть если вывести количество каждого класса\n",
        "diamonds_df.clarity.value_counts()"
      ]
    },
    {
      "cell_type": "code",
      "execution_count": null,
      "id": "08cc5ac4",
      "metadata": {
        "id": "08cc5ac4",
        "outputId": "09a93ac7-4a83-4071-ac0a-bbaa1fc5b313"
      },
      "outputs": [
        {
          "data": {
            "image/png": "[encoded data removed]",
            "text/plain": [
              "<Figure size 1500x400 with 1 Axes>"
            ]
          },
          "metadata": {},
          "output_type": "display_data"
        }
      ],
      "source": [
        "#построим гистограмму для depth\n",
        "plt.figure(figsize=(15, 4))\n",
        "sns.histplot(diamonds_df.depth, color='limegreen')\n",
        "plt.title('Распределение высоты %')\n",
        "plt.xlabel('Проценты')\n",
        "plt.ylabel('Количество');"
      ]
    },
    {
      "cell_type": "markdown",
      "id": "c5309f99",
      "metadata": {
        "id": "c5309f99"
      },
      "source": [
        "<u>На первый взгляд кажется что у нас нормальное распределение. Проверим это с помощью библиотеки scipy.</u>"
      ]
    },
    {
      "cell_type": "code",
      "execution_count": null,
      "id": "13b98cd4",
      "metadata": {
        "id": "13b98cd4",
        "outputId": "1d1c8086-e7e7-43b2-bae6-709353a18915"
      },
      "outputs": [
        {
          "name": "stdout",
          "output_type": "stream",
          "text": [
            "0.00000\n"
          ]
        }
      ],
      "source": [
        "#проверка с помощью  K'2-тест Д'Агостино\n",
        "pvalue = stats.normaltest(diamonds_df.depth)\n",
        "print(\"%.5f\" % pvalue[1])"
      ]
    },
    {
      "cell_type": "markdown",
      "id": "9220ead0",
      "metadata": {
        "id": "9220ead0"
      },
      "source": [
        "<u>Как видим распределение  не по Гауссу. Увидеть это можно было и на графике, если посмотреть на ось x, большой размах значений, а большинство значений у нас заняли небольшой диапазон</u>"
      ]
    },
    {
      "cell_type": "code",
      "execution_count": null,
      "id": "229a1add",
      "metadata": {
        "id": "229a1add",
        "outputId": "ed915b16-454d-4e5d-bead-8de81e8acb2b"
      },
      "outputs": [
        {
          "data": {
            "image/png": "[encoded data removed]",
            "text/plain": [
              "<Figure size 300x300 with 1 Axes>"
            ]
          },
          "metadata": {},
          "output_type": "display_data"
        }
      ],
      "source": [
        "#посмотрим на выбросы\n",
        "plt.figure(figsize=(3, 3))\n",
        "sns.boxplot(diamonds_df.depth, color='purple');"
      ]
    },
    {
      "cell_type": "markdown",
      "id": "2e8e4c32",
      "metadata": {
        "id": "2e8e4c32"
      },
      "source": [
        "<u>Выбросов много. Расположены за пределами нижней и верхней границ.</u>"
      ]
    },
    {
      "cell_type": "code",
      "execution_count": null,
      "id": "6ad27707",
      "metadata": {
        "id": "6ad27707",
        "outputId": "c334ec1a-8cfd-4ff8-f285-2dbfab663b37"
      },
      "outputs": [
        {
          "data": {
            "image/png": "[encoded data removed]",
            "text/plain": [
              "<Figure size 300x300 with 1 Axes>"
            ]
          },
          "metadata": {},
          "output_type": "display_data"
        }
      ],
      "source": [
        "#посмотрим на выбросы у table\n",
        "plt.figure(figsize=(3, 3))\n",
        "sns.boxplot(diamonds_df.table, color='purple');"
      ]
    },
    {
      "cell_type": "markdown",
      "id": "d0f2b4c6",
      "metadata": {
        "id": "d0f2b4c6"
      },
      "source": [
        "<u>Здесь похожая ситуация.</u>"
      ]
    },
    {
      "cell_type": "code",
      "execution_count": null,
      "id": "a9271aa9",
      "metadata": {
        "id": "a9271aa9",
        "outputId": "9e9b86be-e2dc-4052-eb6b-8333a6fa792a"
      },
      "outputs": [
        {
          "data": {
            "image/png": "[encoded data removed]",
            "text/plain": [
              "<Figure size 1000x500 with 1 Axes>"
            ]
          },
          "metadata": {},
          "output_type": "display_data"
        }
      ],
      "source": [
        "#распределение цены\n",
        "plt.figure(figsize=(10, 5))\n",
        "sns.histplot(diamonds_df.price, color='limegreen')\n",
        "plt.title('Распределение цен')\n",
        "plt.xlabel('Цена')\n",
        "plt.ylabel('Количество');"
      ]
    },
    {
      "cell_type": "markdown",
      "id": "b9179b0f",
      "metadata": {
        "id": "b9179b0f"
      },
      "source": [
        "<u>Распределение ассиметричное. Длинный хвост справа(выбросы).</u>"
      ]
    },
    {
      "cell_type": "code",
      "execution_count": null,
      "id": "5b7b6fee",
      "metadata": {
        "id": "5b7b6fee",
        "outputId": "47118a08-4986-48cc-b2b6-c6608f393b11"
      },
      "outputs": [
        {
          "data": {
            "text/plain": [
              "2401.0"
            ]
          },
          "execution_count": 25,
          "metadata": {},
          "output_type": "execute_result"
        }
      ],
      "source": [
        "#Посмотрим средний ценник на алмазы\n",
        "diamonds_df.price.median()"
      ]
    },
    {
      "cell_type": "markdown",
      "id": "05598df5",
      "metadata": {
        "id": "05598df5"
      },
      "source": [
        "<u>Средняя цена - 2,4 тыс долларов.</u>"
      ]
    },
    {
      "cell_type": "code",
      "execution_count": null,
      "id": "545161bc",
      "metadata": {
        "id": "545161bc",
        "outputId": "c71107b5-7666-438e-d4eb-1671959bf5b2"
      },
      "outputs": [
        {
          "data": {
            "image/png": "[encoded data removed]",
            "text/plain": [
              "<Figure size 1700x500 with 3 Axes>"
            ]
          },
          "metadata": {},
          "output_type": "display_data"
        }
      ],
      "source": [
        "#распределение x, y,z\n",
        "\n",
        "fig, axes = plt.subplots(1, 3, figsize=(17, 5))\n",
        "\n",
        "sns.histplot(ax=axes[0],\\\n",
        "x =diamonds_df.x,\n",
        "              color='limegreen').\\\n",
        "set_title('Распределение длины(x)')\n",
        "sns.histplot(ax=axes[1],\\\n",
        "x =diamonds_df.y,\n",
        "              color='limegreen').\\\n",
        "set_title('Распределение ширины(y)')\n",
        "sns.histplot(ax=axes[2],\\\n",
        "x =diamonds_df.z,\n",
        "              color='limegreen').\\\n",
        "set_title('Распределение высоты(z)');"
      ]
    },
    {
      "cell_type": "markdown",
      "id": "026edc83",
      "metadata": {
        "id": "026edc83"
      },
      "source": [
        "<u>У всех трех фичей наблюдается сильные выбросы, в особенности  у и z.</u>"
      ]
    },
    {
      "cell_type": "markdown",
      "id": "8e136791",
      "metadata": {
        "id": "8e136791"
      },
      "source": [
        "Построим отдельно scatterplot для каждой комбинации из этих трех фичей. Думаю они будут коррелировать."
      ]
    },
    {
      "cell_type": "code",
      "execution_count": null,
      "id": "04a9a2e3",
      "metadata": {
        "id": "04a9a2e3",
        "outputId": "23a5dcf5-8761-441b-e167-e34beea115ef"
      },
      "outputs": [
        {
          "data": {
            "image/png": "[encoded data removed]",
            "text/plain": [
              "<Figure size 300x300 with 1 Axes>"
            ]
          },
          "metadata": {},
          "output_type": "display_data"
        }
      ],
      "source": [
        "#x и y\n",
        "plt.figure(figsize=(3, 3))\n",
        "sns.scatterplot(x=diamonds_df.x, y=diamonds_df.y, color='royalblue')\n",
        "plt.title('Корреляция между длиной и шириной')\n",
        "plt.xlabel('Длина')\n",
        "plt.ylabel('Ширина');"
      ]
    },
    {
      "cell_type": "markdown",
      "id": "31ad09a6",
      "metadata": {
        "id": "31ad09a6"
      },
      "source": [
        "<u>Два этих признака положительно коррелируют. Чем длиннее, тем шире. Также можно увидеть пару выбросов.</u>"
      ]
    },
    {
      "cell_type": "code",
      "execution_count": null,
      "id": "9ce2f5ca",
      "metadata": {
        "id": "9ce2f5ca",
        "outputId": "4654fe28-d2a0-400d-e77a-8a46d4f66e27"
      },
      "outputs": [
        {
          "data": {
            "image/png": "[encoded data removed]",
            "text/plain": [
              "<Figure size 300x300 with 1 Axes>"
            ]
          },
          "metadata": {},
          "output_type": "display_data"
        }
      ],
      "source": [
        "#x и z\n",
        "plt.figure(figsize=(3, 3))\n",
        "sns.scatterplot(x=diamonds_df.x, y=diamonds_df.z, color='royalblue')\n",
        "plt.title('Корреляция между длиной и высотой')\n",
        "plt.xlabel('Длина')\n",
        "plt.ylabel('Высота');"
      ]
    },
    {
      "cell_type": "markdown",
      "id": "bfd70250",
      "metadata": {
        "id": "bfd70250"
      },
      "source": [
        "<u>Тут такая же ситуация. Только более сильный разброс.</u>"
      ]
    },
    {
      "cell_type": "code",
      "execution_count": null,
      "id": "b7c966a9",
      "metadata": {
        "id": "b7c966a9",
        "outputId": "07cefa4c-c31d-4e7a-fa52-6a53d9239f87"
      },
      "outputs": [
        {
          "data": {
            "image/png": "[encoded data removed]",
            "text/plain": [
              "<Figure size 300x300 with 1 Axes>"
            ]
          },
          "metadata": {},
          "output_type": "display_data"
        }
      ],
      "source": [
        "#y и z\n",
        "plt.figure(figsize=(3, 3))\n",
        "sns.scatterplot(x=diamonds_df.y, y=diamonds_df.z, color='royalblue')\n",
        "plt.title('Корреляция между длиной и высотой')\n",
        "plt.xlabel('Ширина')\n",
        "plt.ylabel('Высота');"
      ]
    },
    {
      "cell_type": "markdown",
      "id": "8f08e090",
      "metadata": {
        "id": "8f08e090"
      },
      "source": [
        "<u>Здесь тоже положительная корреляция. Только большинство значений скучковались в одном диапазоне.</u>"
      ]
    },
    {
      "cell_type": "markdown",
      "id": "af20f0d4",
      "metadata": {
        "id": "af20f0d4"
      },
      "source": [
        "<h3><font color='dodgerblue'>ПОДГОТОВКА ДАННЫХ</font></h3>"
      ]
    },
    {
      "cell_type": "markdown",
      "id": "352334c7",
      "metadata": {
        "id": "352334c7"
      },
      "source": [
        "<p style='border:2px black solid; padding:10px'>OrdinalEncoder</p>"
      ]
    },
    {
      "cell_type": "code",
      "execution_count": null,
      "id": "c55aaa46",
      "metadata": {
        "id": "c55aaa46",
        "outputId": "9bdf6d95-3bae-42b0-d57c-bcb1acfe2522"
      },
      "outputs": [
        {
          "data": {
            "text/plain": [
              "array(['Ideal', 'Premium', 'Good', 'Very Good', 'Fair'], dtype=object)"
            ]
          },
          "execution_count": 30,
          "metadata": {},
          "output_type": "execute_result"
        }
      ],
      "source": [
        "#посмотрим на уникальные значения столбца cut\n",
        "diamonds_df.cut.unique()"
      ]
    },
    {
      "cell_type": "code",
      "execution_count": null,
      "id": "5d276f08",
      "metadata": {
        "id": "5d276f08"
      },
      "outputs": [],
      "source": [
        "#создадим объект для cut\n",
        "encoder_cut = OrdinalEncoder\\\n",
        "(categories=[['Fair', 'Good', 'Very Good', 'Premium', 'Ideal']])"
      ]
    },
    {
      "cell_type": "code",
      "execution_count": null,
      "id": "9d301df9",
      "metadata": {
        "id": "9d301df9",
        "outputId": "c8e20a5d-5a05-4ba0-c01b-3b391ca30af9"
      },
      "outputs": [
        {
          "data": {
            "text/html": [
              "<style>#sk-container-id-1 {color: black;}#sk-container-id-1 pre{padding: 0;}#sk-container-id-1 div.sk-toggleable {background-color: white;}#sk-container-id-1 label.sk-toggleable__label {cursor: pointer;display: block;width: 100%;margin-bottom: 0;padding: 0.3em;box-sizing: border-box;text-align: center;}#sk-container-id-1 label.sk-toggleable__label-arrow:before {content: \"▸\";float: left;margin-right: 0.25em;color: #696969;}#sk-container-id-1 label.sk-toggleable__label-arrow:hover:before {color: black;}#sk-container-id-1 div.sk-estimator:hover label.sk-toggleable__label-arrow:before {color: black;}#sk-container-id-1 div.sk-toggleable__content {max-height: 0;max-width: 0;overflow: hidden;text-align: left;background-color: #f0f8ff;}#sk-container-id-1 div.sk-toggleable__content pre {margin: 0.2em;color: black;border-radius: 0.25em;background-color: #f0f8ff;}#sk-container-id-1 input.sk-toggleable__control:checked~div.sk-toggleable__content {max-height: 200px;max-width: 100%;overflow: auto;}#sk-container-id-1 input.sk-toggleable__control:checked~label.sk-toggleable__label-arrow:before {content: \"▾\";}#sk-container-id-1 div.sk-estimator input.sk-toggleable__control:checked~label.sk-toggleable__label {background-color: #d4ebff;}#sk-container-id-1 div.sk-label input.sk-toggleable__control:checked~label.sk-toggleable__label {background-color: #d4ebff;}#sk-container-id-1 input.sk-hidden--visually {border: 0;clip: rect(1px 1px 1px 1px);clip: rect(1px, 1px, 1px, 1px);height: 1px;margin: -1px;overflow: hidden;padding: 0;position: absolute;width: 1px;}#sk-container-id-1 div.sk-estimator {font-family: monospace;background-color: #f0f8ff;border: 1px dotted black;border-radius: 0.25em;box-sizing: border-box;margin-bottom: 0.5em;}#sk-container-id-1 div.sk-estimator:hover {background-color: #d4ebff;}#sk-container-id-1 div.sk-parallel-item::after {content: \"\";width: 100%;border-bottom: 1px solid gray;flex-grow: 1;}#sk-container-id-1 div.sk-label:hover label.sk-toggleable__label {background-color: #d4ebff;}#sk-container-id-1 div.sk-serial::before {content: \"\";position: absolute;border-left: 1px solid gray;box-sizing: border-box;top: 0;bottom: 0;left: 50%;z-index: 0;}#sk-container-id-1 div.sk-serial {display: flex;flex-direction: column;align-items: center;background-color: white;padding-right: 0.2em;padding-left: 0.2em;position: relative;}#sk-container-id-1 div.sk-item {position: relative;z-index: 1;}#sk-container-id-1 div.sk-parallel {display: flex;align-items: stretch;justify-content: center;background-color: white;position: relative;}#sk-container-id-1 div.sk-item::before, #sk-container-id-1 div.sk-parallel-item::before {content: \"\";position: absolute;border-left: 1px solid gray;box-sizing: border-box;top: 0;bottom: 0;left: 50%;z-index: -1;}#sk-container-id-1 div.sk-parallel-item {display: flex;flex-direction: column;z-index: 1;position: relative;background-color: white;}#sk-container-id-1 div.sk-parallel-item:first-child::after {align-self: flex-end;width: 50%;}#sk-container-id-1 div.sk-parallel-item:last-child::after {align-self: flex-start;width: 50%;}#sk-container-id-1 div.sk-parallel-item:only-child::after {width: 0;}#sk-container-id-1 div.sk-dashed-wrapped {border: 1px dashed gray;margin: 0 0.4em 0.5em 0.4em;box-sizing: border-box;padding-bottom: 0.4em;background-color: white;}#sk-container-id-1 div.sk-label label {font-family: monospace;font-weight: bold;display: inline-block;line-height: 1.2em;}#sk-container-id-1 div.sk-label-container {text-align: center;}#sk-container-id-1 div.sk-container {/* jupyter's `normalize.less` sets `[hidden] { display: none; }` but bootstrap.min.css set `[hidden] { display: none !important; }` so we also need the `!important` here to be able to override the default hidden behavior on the sphinx rendered scikit-learn.org. See: https://github.com/scikit-learn/scikit-learn/issues/21755 */display: inline-block !important;position: relative;}#sk-container-id-1 div.sk-text-repr-fallback {display: none;}</style><div id=\"sk-container-id-1\" class=\"sk-top-container\"><div class=\"sk-text-repr-fallback\"><pre>OrdinalEncoder(categories=[[&#x27;Fair&#x27;, &#x27;Good&#x27;, &#x27;Very Good&#x27;, &#x27;Premium&#x27;, &#x27;Ideal&#x27;]])</pre><b>In a Jupyter environment, please rerun this cell to show the HTML representation or trust the notebook. <br />On GitHub, the HTML representation is unable to render, please try loading this page with nbviewer.org.</b></div><div class=\"sk-container\" hidden><div class=\"sk-item\"><div class=\"sk-estimator sk-toggleable\"><input class=\"sk-toggleable__control sk-hidden--visually\" id=\"sk-estimator-id-1\" type=\"checkbox\" checked><label for=\"sk-estimator-id-1\" class=\"sk-toggleable__label sk-toggleable__label-arrow\">OrdinalEncoder</label><div class=\"sk-toggleable__content\"><pre>OrdinalEncoder(categories=[[&#x27;Fair&#x27;, &#x27;Good&#x27;, &#x27;Very Good&#x27;, &#x27;Premium&#x27;, &#x27;Ideal&#x27;]])</pre></div></div></div></div></div>"
            ],
            "text/plain": [
              "OrdinalEncoder(categories=[['Fair', 'Good', 'Very Good', 'Premium', 'Ideal']])"
            ]
          },
          "execution_count": 32,
          "metadata": {},
          "output_type": "execute_result"
        }
      ],
      "source": [
        "#обучим\n",
        "encoder_cut.fit(diamonds_df[['cut']])"
      ]
    },
    {
      "cell_type": "code",
      "execution_count": null,
      "id": "b0be4f3a",
      "metadata": {
        "id": "b0be4f3a"
      },
      "outputs": [],
      "source": [
        "#изменим столбец\n",
        "diamonds_df.cut = pd.DataFrame\\\n",
        "(encoder_cut.transform(diamonds_df[['cut']])).astype(int)"
      ]
    },
    {
      "cell_type": "code",
      "execution_count": null,
      "id": "d830e34d",
      "metadata": {
        "id": "d830e34d",
        "outputId": "75e84faf-09a3-4f6e-9d8b-9525e2ffb078"
      },
      "outputs": [
        {
          "data": {
            "text/plain": [
              "0        4\n",
              "1        3\n",
              "2        1\n",
              "3        3\n",
              "4        1\n",
              "        ..\n",
              "53935    4\n",
              "53936    1\n",
              "53937    2\n",
              "53938    3\n",
              "53939    4\n",
              "Name: cut, Length: 53940, dtype: int32"
            ]
          },
          "execution_count": 34,
          "metadata": {},
          "output_type": "execute_result"
        }
      ],
      "source": [
        "#проверим\n",
        "diamonds_df.cut"
      ]
    },
    {
      "cell_type": "markdown",
      "id": "37d35c17",
      "metadata": {
        "id": "37d35c17"
      },
      "source": [
        "Проделаем то же самое с двумя другими фичами(color, clarity)."
      ]
    },
    {
      "cell_type": "code",
      "execution_count": null,
      "id": "4e359623",
      "metadata": {
        "id": "4e359623",
        "outputId": "620fa848-bf03-412d-9570-e606c07c0d4d"
      },
      "outputs": [
        {
          "data": {
            "text/plain": [
              "array(['E', 'I', 'J', 'H', 'F', 'G', 'D'], dtype=object)"
            ]
          },
          "execution_count": 35,
          "metadata": {},
          "output_type": "execute_result"
        }
      ],
      "source": [
        "#посмотрим на уникальные значения столбца color\n",
        "diamonds_df.color.unique()"
      ]
    },
    {
      "cell_type": "code",
      "execution_count": null,
      "id": "5634bcc9",
      "metadata": {
        "id": "5634bcc9"
      },
      "outputs": [],
      "source": [
        "#создадим объект\n",
        "encoder_color = OrdinalEncoder\\\n",
        "(categories=[['J', 'I', 'H', 'G', 'F', 'E', 'D']])"
      ]
    },
    {
      "cell_type": "code",
      "execution_count": null,
      "id": "8dbdcf5e",
      "metadata": {
        "id": "8dbdcf5e"
      },
      "outputs": [],
      "source": [
        "#обучим и изменим столбец\n",
        "encoder_color.fit(diamonds_df[['color']])\n",
        "diamonds_df.color = pd.DataFrame\\\n",
        "(encoder_color.transform(diamonds_df[['color']])).astype(int)"
      ]
    },
    {
      "cell_type": "code",
      "execution_count": null,
      "id": "895af5bb",
      "metadata": {
        "id": "895af5bb",
        "outputId": "158f2b08-8e13-4822-c4ab-ab51815c8d12"
      },
      "outputs": [
        {
          "data": {
            "text/plain": [
              "array(['SI2', 'SI1', 'VS1', 'VS2', 'VVS2', 'VVS1', 'I1', 'IF'],\n",
              "      dtype=object)"
            ]
          },
          "execution_count": 38,
          "metadata": {},
          "output_type": "execute_result"
        }
      ],
      "source": [
        "#посмотрим на уникальные значения столбца clarity\n",
        "diamonds_df.clarity.unique()"
      ]
    },
    {
      "cell_type": "code",
      "execution_count": null,
      "id": "d47baaaa",
      "metadata": {
        "id": "d47baaaa"
      },
      "outputs": [],
      "source": [
        "#создадим объект\n",
        "encoder_clarity = OrdinalEncoder\\\n",
        "(categories=[['I1', 'SI2', 'SI1', 'VS2', 'VS1', 'VVS2', 'VVS1', 'IF']])"
      ]
    },
    {
      "cell_type": "code",
      "execution_count": null,
      "id": "bd31750f",
      "metadata": {
        "id": "bd31750f"
      },
      "outputs": [],
      "source": [
        "#обучим и изменим столбец\n",
        "encoder_clarity.fit(diamonds_df[['clarity']])\n",
        "diamonds_df.clarity = pd.DataFrame\\\n",
        "(encoder_clarity.transform(diamonds_df[['clarity']])).astype(int)"
      ]
    },
    {
      "cell_type": "code",
      "execution_count": null,
      "id": "da0fdadb",
      "metadata": {
        "id": "da0fdadb",
        "outputId": "a6f00a63-1005-46b3-c28e-2963e15e6c44"
      },
      "outputs": [
        {
          "data": {
            "text/html": [
              "<div>\n",
              "<style scoped>\n",
              "    .dataframe tbody tr th:only-of-type {\n",
              "        vertical-align: middle;\n",
              "    }\n",
              "\n",
              "    .dataframe tbody tr th {\n",
              "        vertical-align: top;\n",
              "    }\n",
              "\n",
              "    .dataframe thead th {\n",
              "        text-align: right;\n",
              "    }\n",
              "</style>\n",
              "<table border=\"1\" class=\"dataframe\">\n",
              "  <thead>\n",
              "    <tr style=\"text-align: right;\">\n",
              "      <th></th>\n",
              "      <th>carat</th>\n",
              "      <th>cut</th>\n",
              "      <th>color</th>\n",
              "      <th>clarity</th>\n",
              "      <th>depth</th>\n",
              "      <th>table</th>\n",
              "      <th>price</th>\n",
              "      <th>x</th>\n",
              "      <th>y</th>\n",
              "      <th>z</th>\n",
              "    </tr>\n",
              "  </thead>\n",
              "  <tbody>\n",
              "    <tr>\n",
              "      <th>0</th>\n",
              "      <td>0.23</td>\n",
              "      <td>4</td>\n",
              "      <td>5</td>\n",
              "      <td>1</td>\n",
              "      <td>61.5</td>\n",
              "      <td>55.0</td>\n",
              "      <td>326</td>\n",
              "      <td>3.95</td>\n",
              "      <td>3.98</td>\n",
              "      <td>2.43</td>\n",
              "    </tr>\n",
              "    <tr>\n",
              "      <th>1</th>\n",
              "      <td>0.21</td>\n",
              "      <td>3</td>\n",
              "      <td>5</td>\n",
              "      <td>2</td>\n",
              "      <td>59.8</td>\n",
              "      <td>61.0</td>\n",
              "      <td>326</td>\n",
              "      <td>3.89</td>\n",
              "      <td>3.84</td>\n",
              "      <td>2.31</td>\n",
              "    </tr>\n",
              "    <tr>\n",
              "      <th>2</th>\n",
              "      <td>0.23</td>\n",
              "      <td>1</td>\n",
              "      <td>5</td>\n",
              "      <td>4</td>\n",
              "      <td>56.9</td>\n",
              "      <td>65.0</td>\n",
              "      <td>327</td>\n",
              "      <td>4.05</td>\n",
              "      <td>4.07</td>\n",
              "      <td>2.31</td>\n",
              "    </tr>\n",
              "    <tr>\n",
              "      <th>3</th>\n",
              "      <td>0.29</td>\n",
              "      <td>3</td>\n",
              "      <td>1</td>\n",
              "      <td>3</td>\n",
              "      <td>62.4</td>\n",
              "      <td>58.0</td>\n",
              "      <td>334</td>\n",
              "      <td>4.20</td>\n",
              "      <td>4.23</td>\n",
              "      <td>2.63</td>\n",
              "    </tr>\n",
              "    <tr>\n",
              "      <th>4</th>\n",
              "      <td>0.31</td>\n",
              "      <td>1</td>\n",
              "      <td>0</td>\n",
              "      <td>1</td>\n",
              "      <td>63.3</td>\n",
              "      <td>58.0</td>\n",
              "      <td>335</td>\n",
              "      <td>4.34</td>\n",
              "      <td>4.35</td>\n",
              "      <td>2.75</td>\n",
              "    </tr>\n",
              "  </tbody>\n",
              "</table>\n",
              "</div>"
            ],
            "text/plain": [
              "   carat  cut  color  clarity  depth  table  price     x     y     z\n",
              "0   0.23    4      5        1   61.5   55.0    326  3.95  3.98  2.43\n",
              "1   0.21    3      5        2   59.8   61.0    326  3.89  3.84  2.31\n",
              "2   0.23    1      5        4   56.9   65.0    327  4.05  4.07  2.31\n",
              "3   0.29    3      1        3   62.4   58.0    334  4.20  4.23  2.63\n",
              "4   0.31    1      0        1   63.3   58.0    335  4.34  4.35  2.75"
            ]
          },
          "execution_count": 41,
          "metadata": {},
          "output_type": "execute_result"
        }
      ],
      "source": [
        "#проверим\n",
        "diamonds_df.head(5)"
      ]
    },
    {
      "cell_type": "markdown",
      "id": "f67ec631",
      "metadata": {
        "id": "f67ec631"
      },
      "source": [
        "<u>Как видим все сработало.</u>"
      ]
    },
    {
      "cell_type": "markdown",
      "id": "e116e072",
      "metadata": {
        "id": "e116e072"
      },
      "source": [
        "<p style='border:2px black solid; padding:10px'>Мультиколлинеарность</p>"
      ]
    },
    {
      "cell_type": "code",
      "execution_count": null,
      "id": "326ca47f",
      "metadata": {
        "id": "326ca47f",
        "outputId": "128214ee-99e2-4077-e5df-c026a3098c68"
      },
      "outputs": [
        {
          "data": {
            "image/png": "[encoded data removed]",
            "text/plain": [
              "<Figure size 700x300 with 2 Axes>"
            ]
          },
          "metadata": {},
          "output_type": "display_data"
        }
      ],
      "source": [
        "#посмотрим как признаки коррелируют между собой\n",
        "plt.figure(figsize=(7, 3))\n",
        "sns.heatmap(diamonds_df.corr(), annot=True, \\\n",
        "mask=np.triu(diamonds_df.corr()));\n",
        "%matplotlib inline\n"
      ]
    },
    {
      "cell_type": "markdown",
      "id": "a02aa3a7",
      "metadata": {
        "id": "a02aa3a7"
      },
      "source": [
        "<u>Как видим у нас сильная мультиколлинеарность. Целевой признак коррелирует сильно с carat и x, y, z, но эти фичи также сильно коррелируют друг с другом.</u>"
      ]
    },
    {
      "cell_type": "code",
      "execution_count": null,
      "id": "36a781a9",
      "metadata": {
        "id": "36a781a9"
      },
      "outputs": [],
      "source": [
        "#избавимся от лишних фич\n",
        "diamonds_df.drop(['x', 'y', 'z'], axis=1, inplace=True)"
      ]
    },
    {
      "cell_type": "code",
      "execution_count": null,
      "id": "e1362ff7",
      "metadata": {
        "id": "e1362ff7",
        "outputId": "42aa3cd7-6afd-45ae-b28a-988efe4f3fc9"
      },
      "outputs": [
        {
          "data": {
            "text/plain": [
              "Index(['carat', 'cut', 'color', 'clarity', 'depth', 'table', 'price'], dtype='object')"
            ]
          },
          "execution_count": 44,
          "metadata": {},
          "output_type": "execute_result"
        }
      ],
      "source": [
        "#проверим\n",
        "diamonds_df.columns"
      ]
    },
    {
      "cell_type": "markdown",
      "id": "cc9d6d74",
      "metadata": {
        "id": "cc9d6d74"
      },
      "source": [
        "<p style='border:2px black solid; padding:10px'>Отделение целевой переменной</p>"
      ]
    },
    {
      "cell_type": "code",
      "execution_count": null,
      "id": "339e28a4",
      "metadata": {
        "id": "339e28a4"
      },
      "outputs": [],
      "source": [
        "#отделим нашу целевую переменную\n",
        "X = diamonds_df.drop('price', axis=1)\n",
        "y = diamonds_df.price"
      ]
    },
    {
      "cell_type": "markdown",
      "id": "d9e01383",
      "metadata": {
        "id": "d9e01383"
      },
      "source": [
        "<p style='border:2px black solid; padding:10px'>StandardScaler</p>"
      ]
    },
    {
      "cell_type": "markdown",
      "id": "0dec110a",
      "metadata": {
        "id": "0dec110a"
      },
      "source": [
        "Необходимо масштабировать наши данные, тк буду использовать модель линейной регрессии."
      ]
    },
    {
      "cell_type": "code",
      "execution_count": null,
      "id": "b9e1f37a",
      "metadata": {
        "id": "b9e1f37a"
      },
      "outputs": [],
      "source": [
        "#создадим объект\n",
        "scaler = StandardScaler()"
      ]
    },
    {
      "cell_type": "code",
      "execution_count": null,
      "id": "ef7a8076",
      "metadata": {
        "id": "ef7a8076",
        "outputId": "3073e3c3-d48e-4ff5-b185-3bac87eb80bd"
      },
      "outputs": [
        {
          "data": {
            "text/html": [
              "<style>#sk-container-id-2 {color: black;}#sk-container-id-2 pre{padding: 0;}#sk-container-id-2 div.sk-toggleable {background-color: white;}#sk-container-id-2 label.sk-toggleable__label {cursor: pointer;display: block;width: 100%;margin-bottom: 0;padding: 0.3em;box-sizing: border-box;text-align: center;}#sk-container-id-2 label.sk-toggleable__label-arrow:before {content: \"▸\";float: left;margin-right: 0.25em;color: #696969;}#sk-container-id-2 label.sk-toggleable__label-arrow:hover:before {color: black;}#sk-container-id-2 div.sk-estimator:hover label.sk-toggleable__label-arrow:before {color: black;}#sk-container-id-2 div.sk-toggleable__content {max-height: 0;max-width: 0;overflow: hidden;text-align: left;background-color: #f0f8ff;}#sk-container-id-2 div.sk-toggleable__content pre {margin: 0.2em;color: black;border-radius: 0.25em;background-color: #f0f8ff;}#sk-container-id-2 input.sk-toggleable__control:checked~div.sk-toggleable__content {max-height: 200px;max-width: 100%;overflow: auto;}#sk-container-id-2 input.sk-toggleable__control:checked~label.sk-toggleable__label-arrow:before {content: \"▾\";}#sk-container-id-2 div.sk-estimator input.sk-toggleable__control:checked~label.sk-toggleable__label {background-color: #d4ebff;}#sk-container-id-2 div.sk-label input.sk-toggleable__control:checked~label.sk-toggleable__label {background-color: #d4ebff;}#sk-container-id-2 input.sk-hidden--visually {border: 0;clip: rect(1px 1px 1px 1px);clip: rect(1px, 1px, 1px, 1px);height: 1px;margin: -1px;overflow: hidden;padding: 0;position: absolute;width: 1px;}#sk-container-id-2 div.sk-estimator {font-family: monospace;background-color: #f0f8ff;border: 1px dotted black;border-radius: 0.25em;box-sizing: border-box;margin-bottom: 0.5em;}#sk-container-id-2 div.sk-estimator:hover {background-color: #d4ebff;}#sk-container-id-2 div.sk-parallel-item::after {content: \"\";width: 100%;border-bottom: 1px solid gray;flex-grow: 1;}#sk-container-id-2 div.sk-label:hover label.sk-toggleable__label {background-color: #d4ebff;}#sk-container-id-2 div.sk-serial::before {content: \"\";position: absolute;border-left: 1px solid gray;box-sizing: border-box;top: 0;bottom: 0;left: 50%;z-index: 0;}#sk-container-id-2 div.sk-serial {display: flex;flex-direction: column;align-items: center;background-color: white;padding-right: 0.2em;padding-left: 0.2em;position: relative;}#sk-container-id-2 div.sk-item {position: relative;z-index: 1;}#sk-container-id-2 div.sk-parallel {display: flex;align-items: stretch;justify-content: center;background-color: white;position: relative;}#sk-container-id-2 div.sk-item::before, #sk-container-id-2 div.sk-parallel-item::before {content: \"\";position: absolute;border-left: 1px solid gray;box-sizing: border-box;top: 0;bottom: 0;left: 50%;z-index: -1;}#sk-container-id-2 div.sk-parallel-item {display: flex;flex-direction: column;z-index: 1;position: relative;background-color: white;}#sk-container-id-2 div.sk-parallel-item:first-child::after {align-self: flex-end;width: 50%;}#sk-container-id-2 div.sk-parallel-item:last-child::after {align-self: flex-start;width: 50%;}#sk-container-id-2 div.sk-parallel-item:only-child::after {width: 0;}#sk-container-id-2 div.sk-dashed-wrapped {border: 1px dashed gray;margin: 0 0.4em 0.5em 0.4em;box-sizing: border-box;padding-bottom: 0.4em;background-color: white;}#sk-container-id-2 div.sk-label label {font-family: monospace;font-weight: bold;display: inline-block;line-height: 1.2em;}#sk-container-id-2 div.sk-label-container {text-align: center;}#sk-container-id-2 div.sk-container {/* jupyter's `normalize.less` sets `[hidden] { display: none; }` but bootstrap.min.css set `[hidden] { display: none !important; }` so we also need the `!important` here to be able to override the default hidden behavior on the sphinx rendered scikit-learn.org. See: https://github.com/scikit-learn/scikit-learn/issues/21755 */display: inline-block !important;position: relative;}#sk-container-id-2 div.sk-text-repr-fallback {display: none;}</style><div id=\"sk-container-id-2\" class=\"sk-top-container\"><div class=\"sk-text-repr-fallback\"><pre>StandardScaler()</pre><b>In a Jupyter environment, please rerun this cell to show the HTML representation or trust the notebook. <br />On GitHub, the HTML representation is unable to render, please try loading this page with nbviewer.org.</b></div><div class=\"sk-container\" hidden><div class=\"sk-item\"><div class=\"sk-estimator sk-toggleable\"><input class=\"sk-toggleable__control sk-hidden--visually\" id=\"sk-estimator-id-2\" type=\"checkbox\" checked><label for=\"sk-estimator-id-2\" class=\"sk-toggleable__label sk-toggleable__label-arrow\">StandardScaler</label><div class=\"sk-toggleable__content\"><pre>StandardScaler()</pre></div></div></div></div></div>"
            ],
            "text/plain": [
              "StandardScaler()"
            ]
          },
          "execution_count": 47,
          "metadata": {},
          "output_type": "execute_result"
        }
      ],
      "source": [
        "#обучим\n",
        "scaler.fit(X)"
      ]
    },
    {
      "cell_type": "code",
      "execution_count": null,
      "id": "705c3e47",
      "metadata": {
        "id": "705c3e47"
      },
      "outputs": [],
      "source": [
        "#приведем в датафрейм\n",
        "X = pd.DataFrame(scaler.transform(X), \\\n",
        "                 columns=diamonds_df.drop('price', axis=1).columns)"
      ]
    },
    {
      "cell_type": "code",
      "execution_count": null,
      "id": "41532184",
      "metadata": {
        "id": "41532184",
        "outputId": "d09f7b5c-a56f-47d6-cd67-de77411fc0b4"
      },
      "outputs": [
        {
          "data": {
            "text/html": [
              "<div>\n",
              "<style scoped>\n",
              "    .dataframe tbody tr th:only-of-type {\n",
              "        vertical-align: middle;\n",
              "    }\n",
              "\n",
              "    .dataframe tbody tr th {\n",
              "        vertical-align: top;\n",
              "    }\n",
              "\n",
              "    .dataframe thead th {\n",
              "        text-align: right;\n",
              "    }\n",
              "</style>\n",
              "<table border=\"1\" class=\"dataframe\">\n",
              "  <thead>\n",
              "    <tr style=\"text-align: right;\">\n",
              "      <th></th>\n",
              "      <th>carat</th>\n",
              "      <th>cut</th>\n",
              "      <th>color</th>\n",
              "      <th>clarity</th>\n",
              "      <th>depth</th>\n",
              "      <th>table</th>\n",
              "    </tr>\n",
              "  </thead>\n",
              "  <tbody>\n",
              "    <tr>\n",
              "      <th>0</th>\n",
              "      <td>-1.198168</td>\n",
              "      <td>0.981473</td>\n",
              "      <td>0.937163</td>\n",
              "      <td>-1.245215</td>\n",
              "      <td>-0.174092</td>\n",
              "      <td>-1.099672</td>\n",
              "    </tr>\n",
              "    <tr>\n",
              "      <th>1</th>\n",
              "      <td>-1.240361</td>\n",
              "      <td>0.085889</td>\n",
              "      <td>0.937163</td>\n",
              "      <td>-0.638095</td>\n",
              "      <td>-1.360738</td>\n",
              "      <td>1.585529</td>\n",
              "    </tr>\n",
              "    <tr>\n",
              "      <th>2</th>\n",
              "      <td>-1.198168</td>\n",
              "      <td>-1.705279</td>\n",
              "      <td>0.937163</td>\n",
              "      <td>0.576145</td>\n",
              "      <td>-3.385019</td>\n",
              "      <td>3.375663</td>\n",
              "    </tr>\n",
              "    <tr>\n",
              "      <th>3</th>\n",
              "      <td>-1.071587</td>\n",
              "      <td>0.085889</td>\n",
              "      <td>-1.414272</td>\n",
              "      <td>-0.030975</td>\n",
              "      <td>0.454133</td>\n",
              "      <td>0.242928</td>\n",
              "    </tr>\n",
              "    <tr>\n",
              "      <th>4</th>\n",
              "      <td>-1.029394</td>\n",
              "      <td>-1.705279</td>\n",
              "      <td>-2.002131</td>\n",
              "      <td>-1.245215</td>\n",
              "      <td>1.082358</td>\n",
              "      <td>0.242928</td>\n",
              "    </tr>\n",
              "  </tbody>\n",
              "</table>\n",
              "</div>"
            ],
            "text/plain": [
              "      carat       cut     color   clarity     depth     table\n",
              "0 -1.198168  0.981473  0.937163 -1.245215 -0.174092 -1.099672\n",
              "1 -1.240361  0.085889  0.937163 -0.638095 -1.360738  1.585529\n",
              "2 -1.198168 -1.705279  0.937163  0.576145 -3.385019  3.375663\n",
              "3 -1.071587  0.085889 -1.414272 -0.030975  0.454133  0.242928\n",
              "4 -1.029394 -1.705279 -2.002131 -1.245215  1.082358  0.242928"
            ]
          },
          "execution_count": 49,
          "metadata": {},
          "output_type": "execute_result"
        }
      ],
      "source": [
        "#проверим\n",
        "X.head(5)"
      ]
    },
    {
      "cell_type": "markdown",
      "id": "174e3638",
      "metadata": {
        "id": "174e3638"
      },
      "source": [
        "<p style='border:2px black solid; padding:10px'>Тренировочные и тестовые данные</p>"
      ]
    },
    {
      "cell_type": "code",
      "execution_count": null,
      "id": "de705b4d",
      "metadata": {
        "id": "de705b4d"
      },
      "outputs": [],
      "source": [
        "#разделим данные на тестовые и тренировочные и валидационные\n",
        "X_train, X_test, y_train, y_test = train_test_split\\\n",
        "(X, y, test_size=0.33, random_state=42)\n",
        "X_test, X_val, y_test, y_val = train_test_split\\\n",
        "(X_test, y_test, test_size=0.1, random_state=42)"
      ]
    },
    {
      "cell_type": "markdown",
      "id": "e6b2aedb",
      "metadata": {
        "id": "e6b2aedb"
      },
      "source": [
        "<u>Данные готовы к обучению.</u>"
      ]
    },
    {
      "cell_type": "markdown",
      "id": "6ac8716e",
      "metadata": {
        "id": "6ac8716e"
      },
      "source": [
        "<h3><font color='dodgerblue'>МАШИННОЕ ОБУЧЕНИЕ И НЕЙРОННЫЕ СЕТИ</font></h3>"
      ]
    },
    {
      "cell_type": "markdown",
      "id": "84ee2bf5",
      "metadata": {
        "id": "84ee2bf5"
      },
      "source": [
        "Задача: регрессия. Метрики качества: MAPE -  выражается в долях/процентах, очень проста в интерпретации. Помимо нее будем также рассматривать RMSE, потому что она больше \"наказывает\" за выбросы. То есть к примеру, если у нас разница между предсказанными и реальными в одной строке очень большая, то rmse покажет более низкое качество модели в отличие от mape."
      ]
    },
    {
      "cell_type": "markdown",
      "id": "7d994141",
      "metadata": {
        "id": "7d994141"
      },
      "source": [
        "<p style='border:2px black solid; padding:10px'>Линейная регрессия</p>"
      ]
    },
    {
      "cell_type": "code",
      "execution_count": null,
      "id": "47260ed8",
      "metadata": {
        "id": "47260ed8"
      },
      "outputs": [],
      "source": [
        "#создадим объект линейной регрессии\n",
        "l_reg = LinearRegression()"
      ]
    },
    {
      "cell_type": "code",
      "execution_count": null,
      "id": "12c14984",
      "metadata": {
        "id": "12c14984",
        "outputId": "9cba7318-d9cf-4d7a-a390-daaa4a9242ee"
      },
      "outputs": [
        {
          "data": {
            "text/html": [
              "<style>#sk-container-id-3 {color: black;}#sk-container-id-3 pre{padding: 0;}#sk-container-id-3 div.sk-toggleable {background-color: white;}#sk-container-id-3 label.sk-toggleable__label {cursor: pointer;display: block;width: 100%;margin-bottom: 0;padding: 0.3em;box-sizing: border-box;text-align: center;}#sk-container-id-3 label.sk-toggleable__label-arrow:before {content: \"▸\";float: left;margin-right: 0.25em;color: #696969;}#sk-container-id-3 label.sk-toggleable__label-arrow:hover:before {color: black;}#sk-container-id-3 div.sk-estimator:hover label.sk-toggleable__label-arrow:before {color: black;}#sk-container-id-3 div.sk-toggleable__content {max-height: 0;max-width: 0;overflow: hidden;text-align: left;background-color: #f0f8ff;}#sk-container-id-3 div.sk-toggleable__content pre {margin: 0.2em;color: black;border-radius: 0.25em;background-color: #f0f8ff;}#sk-container-id-3 input.sk-toggleable__control:checked~div.sk-toggleable__content {max-height: 200px;max-width: 100%;overflow: auto;}#sk-container-id-3 input.sk-toggleable__control:checked~label.sk-toggleable__label-arrow:before {content: \"▾\";}#sk-container-id-3 div.sk-estimator input.sk-toggleable__control:checked~label.sk-toggleable__label {background-color: #d4ebff;}#sk-container-id-3 div.sk-label input.sk-toggleable__control:checked~label.sk-toggleable__label {background-color: #d4ebff;}#sk-container-id-3 input.sk-hidden--visually {border: 0;clip: rect(1px 1px 1px 1px);clip: rect(1px, 1px, 1px, 1px);height: 1px;margin: -1px;overflow: hidden;padding: 0;position: absolute;width: 1px;}#sk-container-id-3 div.sk-estimator {font-family: monospace;background-color: #f0f8ff;border: 1px dotted black;border-radius: 0.25em;box-sizing: border-box;margin-bottom: 0.5em;}#sk-container-id-3 div.sk-estimator:hover {background-color: #d4ebff;}#sk-container-id-3 div.sk-parallel-item::after {content: \"\";width: 100%;border-bottom: 1px solid gray;flex-grow: 1;}#sk-container-id-3 div.sk-label:hover label.sk-toggleable__label {background-color: #d4ebff;}#sk-container-id-3 div.sk-serial::before {content: \"\";position: absolute;border-left: 1px solid gray;box-sizing: border-box;top: 0;bottom: 0;left: 50%;z-index: 0;}#sk-container-id-3 div.sk-serial {display: flex;flex-direction: column;align-items: center;background-color: white;padding-right: 0.2em;padding-left: 0.2em;position: relative;}#sk-container-id-3 div.sk-item {position: relative;z-index: 1;}#sk-container-id-3 div.sk-parallel {display: flex;align-items: stretch;justify-content: center;background-color: white;position: relative;}#sk-container-id-3 div.sk-item::before, #sk-container-id-3 div.sk-parallel-item::before {content: \"\";position: absolute;border-left: 1px solid gray;box-sizing: border-box;top: 0;bottom: 0;left: 50%;z-index: -1;}#sk-container-id-3 div.sk-parallel-item {display: flex;flex-direction: column;z-index: 1;position: relative;background-color: white;}#sk-container-id-3 div.sk-parallel-item:first-child::after {align-self: flex-end;width: 50%;}#sk-container-id-3 div.sk-parallel-item:last-child::after {align-self: flex-start;width: 50%;}#sk-container-id-3 div.sk-parallel-item:only-child::after {width: 0;}#sk-container-id-3 div.sk-dashed-wrapped {border: 1px dashed gray;margin: 0 0.4em 0.5em 0.4em;box-sizing: border-box;padding-bottom: 0.4em;background-color: white;}#sk-container-id-3 div.sk-label label {font-family: monospace;font-weight: bold;display: inline-block;line-height: 1.2em;}#sk-container-id-3 div.sk-label-container {text-align: center;}#sk-container-id-3 div.sk-container {/* jupyter's `normalize.less` sets `[hidden] { display: none; }` but bootstrap.min.css set `[hidden] { display: none !important; }` so we also need the `!important` here to be able to override the default hidden behavior on the sphinx rendered scikit-learn.org. See: https://github.com/scikit-learn/scikit-learn/issues/21755 */display: inline-block !important;position: relative;}#sk-container-id-3 div.sk-text-repr-fallback {display: none;}</style><div id=\"sk-container-id-3\" class=\"sk-top-container\"><div class=\"sk-text-repr-fallback\"><pre>LinearRegression()</pre><b>In a Jupyter environment, please rerun this cell to show the HTML representation or trust the notebook. <br />On GitHub, the HTML representation is unable to render, please try loading this page with nbviewer.org.</b></div><div class=\"sk-container\" hidden><div class=\"sk-item\"><div class=\"sk-estimator sk-toggleable\"><input class=\"sk-toggleable__control sk-hidden--visually\" id=\"sk-estimator-id-3\" type=\"checkbox\" checked><label for=\"sk-estimator-id-3\" class=\"sk-toggleable__label sk-toggleable__label-arrow\">LinearRegression</label><div class=\"sk-toggleable__content\"><pre>LinearRegression()</pre></div></div></div></div></div>"
            ],
            "text/plain": [
              "LinearRegression()"
            ]
          },
          "execution_count": 52,
          "metadata": {},
          "output_type": "execute_result"
        }
      ],
      "source": [
        "#обучим\n",
        "l_reg.fit(X_train, y_train)"
      ]
    },
    {
      "cell_type": "code",
      "execution_count": null,
      "id": "9804e060",
      "metadata": {
        "id": "9804e060",
        "outputId": "fefc233d-336b-43ad-db0d-d13b225fa06c"
      },
      "outputs": [
        {
          "data": {
            "text/html": [
              "<div>\n",
              "<style scoped>\n",
              "    .dataframe tbody tr th:only-of-type {\n",
              "        vertical-align: middle;\n",
              "    }\n",
              "\n",
              "    .dataframe tbody tr th {\n",
              "        vertical-align: top;\n",
              "    }\n",
              "\n",
              "    .dataframe thead th {\n",
              "        text-align: right;\n",
              "    }\n",
              "</style>\n",
              "<table border=\"1\" class=\"dataframe\">\n",
              "  <thead>\n",
              "    <tr style=\"text-align: right;\">\n",
              "      <th></th>\n",
              "      <th>Средняя абсолютная процентная ошибка</th>\n",
              "    </tr>\n",
              "  </thead>\n",
              "  <tbody>\n",
              "    <tr>\n",
              "      <th>Валидационная выборка</th>\n",
              "      <td>0.481209</td>\n",
              "    </tr>\n",
              "    <tr>\n",
              "      <th>Тестовая выборка</th>\n",
              "      <td>0.492183</td>\n",
              "    </tr>\n",
              "  </tbody>\n",
              "</table>\n",
              "</div>"
            ],
            "text/plain": [
              "                       Средняя абсолютная процентная ошибка\n",
              "Валидационная выборка                              0.481209\n",
              "Тестовая выборка                                   0.492183"
            ]
          },
          "execution_count": 53,
          "metadata": {},
          "output_type": "execute_result"
        }
      ],
      "source": [
        "#оценим качество(mape) на валидационной и тестовой выборках\n",
        "pd.DataFrame([mean_absolute_percentage_error\\\n",
        "              (y_val, l_reg.predict(X_val)),\n",
        "               mean_absolute_percentage_error\\\n",
        "              (y_test, l_reg.predict(X_test))],\n",
        "             index=['Валидационная выборка', 'Тестовая выборка'],\n",
        "             columns=['Средняя абсолютная процентная ошибка'])"
      ]
    },
    {
      "cell_type": "code",
      "execution_count": null,
      "id": "284b1b18",
      "metadata": {
        "id": "284b1b18",
        "outputId": "1dd72f85-21dd-4895-9be9-2becaa92307f"
      },
      "outputs": [
        {
          "data": {
            "text/html": [
              "<div>\n",
              "<style scoped>\n",
              "    .dataframe tbody tr th:only-of-type {\n",
              "        vertical-align: middle;\n",
              "    }\n",
              "\n",
              "    .dataframe tbody tr th {\n",
              "        vertical-align: top;\n",
              "    }\n",
              "\n",
              "    .dataframe thead th {\n",
              "        text-align: right;\n",
              "    }\n",
              "</style>\n",
              "<table border=\"1\" class=\"dataframe\">\n",
              "  <thead>\n",
              "    <tr style=\"text-align: right;\">\n",
              "      <th></th>\n",
              "      <th>Корень из среднеквадратичной ошибки</th>\n",
              "    </tr>\n",
              "  </thead>\n",
              "  <tbody>\n",
              "    <tr>\n",
              "      <th>Валидационная выборка</th>\n",
              "      <td>1233.720607</td>\n",
              "    </tr>\n",
              "    <tr>\n",
              "      <th>Тестовая выборка</th>\n",
              "      <td>1221.249483</td>\n",
              "    </tr>\n",
              "  </tbody>\n",
              "</table>\n",
              "</div>"
            ],
            "text/plain": [
              "                       Корень из среднеквадратичной ошибки\n",
              "Валидационная выборка                          1233.720607\n",
              "Тестовая выборка                               1221.249483"
            ]
          },
          "execution_count": 54,
          "metadata": {},
          "output_type": "execute_result"
        }
      ],
      "source": [
        "#оценим качество(rmse) на валидационной и тестовой выборках\n",
        "pd.DataFrame([mean_squared_error\\\n",
        "              (y_val, l_reg.predict(X_val), squared=False),\n",
        "             mean_squared_error\\\n",
        "              (y_test, l_reg.predict(X_test), squared=False)],\n",
        "             index=['Валидационная выборка', 'Тестовая выборка'],\n",
        "             columns=['Корень из среднеквадратичной ошибки'])"
      ]
    },
    {
      "cell_type": "code",
      "execution_count": null,
      "id": "f3094d12",
      "metadata": {
        "id": "f3094d12"
      },
      "outputs": [],
      "source": [
        "#сохраним в отдельные переменные\n",
        "a1 = mean_absolute_percentage_error\\\n",
        "(y_test, l_reg.predict(X_test))\n",
        "a2 =  mean_squared_error\\\n",
        "(y_test, l_reg.predict(X_test), squared=False)"
      ]
    },
    {
      "cell_type": "markdown",
      "id": "f5789669",
      "metadata": {
        "id": "f5789669"
      },
      "source": [
        "<u>Как видим на обеих выборках практически одинаковые результаты. Обе метрики показывают что модель работает не очень хорошо.Рассмотрим их по отдельности.</u><br>MAPE на тестовой равно 0.49. Это говорит нам о том, что средняя абсолютная процентная ошибка между ценами, предсказанными моделью, и фактическими ценами составляет 49%. Что довольно много.<br>RMSE на тестовой равно 1221. Данная метрика выдает значение в тех единицах в которых была представлена целевая переменная, в нашем случае - в долларах. Средняя цена у нас на алмазы составляет 2.4 тыс долларов.И ошибка в 1тыс долларов это очень много."
      ]
    },
    {
      "cell_type": "markdown",
      "id": "0775543d",
      "metadata": {
        "id": "0775543d"
      },
      "source": [
        "<p style='border:2px black solid; padding:10px'>Метод ближайших соседей</p>"
      ]
    },
    {
      "cell_type": "code",
      "execution_count": null,
      "id": "754e142e",
      "metadata": {
        "id": "754e142e"
      },
      "outputs": [],
      "source": [
        "#создадим обЪект\n",
        "knr = KNeighborsRegressor()"
      ]
    },
    {
      "cell_type": "code",
      "execution_count": null,
      "id": "b75c9d2d",
      "metadata": {
        "id": "b75c9d2d",
        "outputId": "d4905825-0663-4967-b51a-a69db324e1e9"
      },
      "outputs": [
        {
          "data": {
            "text/html": [
              "<style>#sk-container-id-4 {color: black;}#sk-container-id-4 pre{padding: 0;}#sk-container-id-4 div.sk-toggleable {background-color: white;}#sk-container-id-4 label.sk-toggleable__label {cursor: pointer;display: block;width: 100%;margin-bottom: 0;padding: 0.3em;box-sizing: border-box;text-align: center;}#sk-container-id-4 label.sk-toggleable__label-arrow:before {content: \"▸\";float: left;margin-right: 0.25em;color: #696969;}#sk-container-id-4 label.sk-toggleable__label-arrow:hover:before {color: black;}#sk-container-id-4 div.sk-estimator:hover label.sk-toggleable__label-arrow:before {color: black;}#sk-container-id-4 div.sk-toggleable__content {max-height: 0;max-width: 0;overflow: hidden;text-align: left;background-color: #f0f8ff;}#sk-container-id-4 div.sk-toggleable__content pre {margin: 0.2em;color: black;border-radius: 0.25em;background-color: #f0f8ff;}#sk-container-id-4 input.sk-toggleable__control:checked~div.sk-toggleable__content {max-height: 200px;max-width: 100%;overflow: auto;}#sk-container-id-4 input.sk-toggleable__control:checked~label.sk-toggleable__label-arrow:before {content: \"▾\";}#sk-container-id-4 div.sk-estimator input.sk-toggleable__control:checked~label.sk-toggleable__label {background-color: #d4ebff;}#sk-container-id-4 div.sk-label input.sk-toggleable__control:checked~label.sk-toggleable__label {background-color: #d4ebff;}#sk-container-id-4 input.sk-hidden--visually {border: 0;clip: rect(1px 1px 1px 1px);clip: rect(1px, 1px, 1px, 1px);height: 1px;margin: -1px;overflow: hidden;padding: 0;position: absolute;width: 1px;}#sk-container-id-4 div.sk-estimator {font-family: monospace;background-color: #f0f8ff;border: 1px dotted black;border-radius: 0.25em;box-sizing: border-box;margin-bottom: 0.5em;}#sk-container-id-4 div.sk-estimator:hover {background-color: #d4ebff;}#sk-container-id-4 div.sk-parallel-item::after {content: \"\";width: 100%;border-bottom: 1px solid gray;flex-grow: 1;}#sk-container-id-4 div.sk-label:hover label.sk-toggleable__label {background-color: #d4ebff;}#sk-container-id-4 div.sk-serial::before {content: \"\";position: absolute;border-left: 1px solid gray;box-sizing: border-box;top: 0;bottom: 0;left: 50%;z-index: 0;}#sk-container-id-4 div.sk-serial {display: flex;flex-direction: column;align-items: center;background-color: white;padding-right: 0.2em;padding-left: 0.2em;position: relative;}#sk-container-id-4 div.sk-item {position: relative;z-index: 1;}#sk-container-id-4 div.sk-parallel {display: flex;align-items: stretch;justify-content: center;background-color: white;position: relative;}#sk-container-id-4 div.sk-item::before, #sk-container-id-4 div.sk-parallel-item::before {content: \"\";position: absolute;border-left: 1px solid gray;box-sizing: border-box;top: 0;bottom: 0;left: 50%;z-index: -1;}#sk-container-id-4 div.sk-parallel-item {display: flex;flex-direction: column;z-index: 1;position: relative;background-color: white;}#sk-container-id-4 div.sk-parallel-item:first-child::after {align-self: flex-end;width: 50%;}#sk-container-id-4 div.sk-parallel-item:last-child::after {align-self: flex-start;width: 50%;}#sk-container-id-4 div.sk-parallel-item:only-child::after {width: 0;}#sk-container-id-4 div.sk-dashed-wrapped {border: 1px dashed gray;margin: 0 0.4em 0.5em 0.4em;box-sizing: border-box;padding-bottom: 0.4em;background-color: white;}#sk-container-id-4 div.sk-label label {font-family: monospace;font-weight: bold;display: inline-block;line-height: 1.2em;}#sk-container-id-4 div.sk-label-container {text-align: center;}#sk-container-id-4 div.sk-container {/* jupyter's `normalize.less` sets `[hidden] { display: none; }` but bootstrap.min.css set `[hidden] { display: none !important; }` so we also need the `!important` here to be able to override the default hidden behavior on the sphinx rendered scikit-learn.org. See: https://github.com/scikit-learn/scikit-learn/issues/21755 */display: inline-block !important;position: relative;}#sk-container-id-4 div.sk-text-repr-fallback {display: none;}</style><div id=\"sk-container-id-4\" class=\"sk-top-container\"><div class=\"sk-text-repr-fallback\"><pre>KNeighborsRegressor()</pre><b>In a Jupyter environment, please rerun this cell to show the HTML representation or trust the notebook. <br />On GitHub, the HTML representation is unable to render, please try loading this page with nbviewer.org.</b></div><div class=\"sk-container\" hidden><div class=\"sk-item\"><div class=\"sk-estimator sk-toggleable\"><input class=\"sk-toggleable__control sk-hidden--visually\" id=\"sk-estimator-id-4\" type=\"checkbox\" checked><label for=\"sk-estimator-id-4\" class=\"sk-toggleable__label sk-toggleable__label-arrow\">KNeighborsRegressor</label><div class=\"sk-toggleable__content\"><pre>KNeighborsRegressor()</pre></div></div></div></div></div>"
            ],
            "text/plain": [
              "KNeighborsRegressor()"
            ]
          },
          "execution_count": 57,
          "metadata": {},
          "output_type": "execute_result"
        }
      ],
      "source": [
        "#обучим\n",
        "knr.fit(X_train, y_train)"
      ]
    },
    {
      "cell_type": "code",
      "execution_count": null,
      "id": "e42a58a2",
      "metadata": {
        "id": "e42a58a2",
        "outputId": "33991b7d-f259-416f-dfde-bd1d55dd6b07"
      },
      "outputs": [
        {
          "data": {
            "text/html": [
              "<div>\n",
              "<style scoped>\n",
              "    .dataframe tbody tr th:only-of-type {\n",
              "        vertical-align: middle;\n",
              "    }\n",
              "\n",
              "    .dataframe tbody tr th {\n",
              "        vertical-align: top;\n",
              "    }\n",
              "\n",
              "    .dataframe thead th {\n",
              "        text-align: right;\n",
              "    }\n",
              "</style>\n",
              "<table border=\"1\" class=\"dataframe\">\n",
              "  <thead>\n",
              "    <tr style=\"text-align: right;\">\n",
              "      <th></th>\n",
              "      <th>Средняя абсолютная процентная ошибка</th>\n",
              "    </tr>\n",
              "  </thead>\n",
              "  <tbody>\n",
              "    <tr>\n",
              "      <th>Валидационная выборка</th>\n",
              "      <td>0.152905</td>\n",
              "    </tr>\n",
              "    <tr>\n",
              "      <th>Тестовая выборка</th>\n",
              "      <td>0.155268</td>\n",
              "    </tr>\n",
              "  </tbody>\n",
              "</table>\n",
              "</div>"
            ],
            "text/plain": [
              "                       Средняя абсолютная процентная ошибка\n",
              "Валидационная выборка                              0.152905\n",
              "Тестовая выборка                                   0.155268"
            ]
          },
          "execution_count": 58,
          "metadata": {},
          "output_type": "execute_result"
        }
      ],
      "source": [
        "#оценим качество(mape) на валидационной и тестовой выборках\n",
        "pd.DataFrame([mean_absolute_percentage_error\\\n",
        "              (y_val, knr.predict(X_val)),\n",
        "              mean_absolute_percentage_error\\\n",
        "              (y_test, knr.predict(X_test))],\n",
        "             index=['Валидационная выборка', 'Тестовая выборка'],\n",
        "             columns=['Средняя абсолютная процентная ошибка'])"
      ]
    },
    {
      "cell_type": "code",
      "execution_count": null,
      "id": "d30b432d",
      "metadata": {
        "id": "d30b432d",
        "outputId": "82809591-15b6-4ff7-bf4a-92d9b9ac9de0"
      },
      "outputs": [
        {
          "data": {
            "text/html": [
              "<div>\n",
              "<style scoped>\n",
              "    .dataframe tbody tr th:only-of-type {\n",
              "        vertical-align: middle;\n",
              "    }\n",
              "\n",
              "    .dataframe tbody tr th {\n",
              "        vertical-align: top;\n",
              "    }\n",
              "\n",
              "    .dataframe thead th {\n",
              "        text-align: right;\n",
              "    }\n",
              "</style>\n",
              "<table border=\"1\" class=\"dataframe\">\n",
              "  <thead>\n",
              "    <tr style=\"text-align: right;\">\n",
              "      <th></th>\n",
              "      <th>Корень из среднеквадратичной ошибки</th>\n",
              "    </tr>\n",
              "  </thead>\n",
              "  <tbody>\n",
              "    <tr>\n",
              "      <th>Валидационная выборка</th>\n",
              "      <td>800.530203</td>\n",
              "    </tr>\n",
              "    <tr>\n",
              "      <th>Тестовая выборка</th>\n",
              "      <td>810.179863</td>\n",
              "    </tr>\n",
              "  </tbody>\n",
              "</table>\n",
              "</div>"
            ],
            "text/plain": [
              "                       Корень из среднеквадратичной ошибки\n",
              "Валидационная выборка                           800.530203\n",
              "Тестовая выборка                                810.179863"
            ]
          },
          "execution_count": 59,
          "metadata": {},
          "output_type": "execute_result"
        }
      ],
      "source": [
        "#оценим качество(rmse) на валидационной и тестовой выборках\n",
        "pd.DataFrame([mean_squared_error\\\n",
        "              (y_val, knr.predict(X_val), squared=False),\n",
        "              mean_squared_error\\\n",
        "              (y_test, knr.predict(X_test), squared=False)],\n",
        "             index=['Валидационная выборка', 'Тестовая выборка'],\n",
        "             columns=['Корень из среднеквадратичной ошибки'])"
      ]
    },
    {
      "cell_type": "code",
      "execution_count": null,
      "id": "cd489f1b",
      "metadata": {
        "id": "cd489f1b"
      },
      "outputs": [],
      "source": [
        "#сохраним в отдельные переменные\n",
        "b1 = mean_absolute_percentage_error\\\n",
        "(y_test, knr.predict(X_test))\n",
        "b2 =  mean_squared_error\\\n",
        "(y_test, knr.predict(X_test), squared=False)"
      ]
    },
    {
      "cell_type": "markdown",
      "id": "fa77d0d1",
      "metadata": {
        "id": "fa77d0d1"
      },
      "source": [
        "<u>Тут mape показывает неплохие результаты, но вот rmse все показывает высокие результаты(что минус). Но данная модель явно лучше справляется, чем линейна регрессия.</u>"
      ]
    },
    {
      "cell_type": "markdown",
      "id": "2f386d98",
      "metadata": {
        "id": "2f386d98"
      },
      "source": [
        "<p style='border:2px black solid; padding:10px'>Случайный лес</p>"
      ]
    },
    {
      "cell_type": "markdown",
      "id": "6c0ebccf",
      "metadata": {
        "id": "6c0ebccf"
      },
      "source": [
        "Будем перебирать количество деревьев и максимальную глубину и смотреть mape."
      ]
    },
    {
      "cell_type": "code",
      "execution_count": null,
      "id": "2163bc80",
      "metadata": {
        "id": "2163bc80",
        "outputId": "97d1c946-05db-4283-95eb-ee4ed65b6ecd"
      },
      "outputs": [
        {
          "data": {
            "image/png": "[encoded data removed]",
            "text/plain": [
              "<Figure size 500x400 with 1 Axes>"
            ]
          },
          "metadata": {},
          "output_type": "display_data"
        }
      ],
      "source": [
        "#перебор глубины\n",
        "l_depth = []\n",
        "plt.figure(figsize=(5, 4))\n",
        "for i in range(5, 100, 5):\n",
        "    forest1 = RandomForestRegressor(max_depth=i, random_state=42)\n",
        "    forest1.fit(X_train, y_train)\n",
        "    metric_train1 = mean_absolute_percentage_error\\\n",
        "    (y_train, forest1.predict(X_train))\n",
        "    metric_test1 = mean_absolute_percentage_error\\\n",
        "    (y_test, forest1.predict(X_test))\n",
        "    l_depth.append([i, metric_train1, metric_test1])\n",
        "l_depth_DataFrame = pd.DataFrame\\\n",
        "(l_depth, columns=['max_depth', 'metric_train1', 'metric_test1'])\n",
        "l_depth_DataFrame.set_index('max_depth').\\\n",
        "metric_train1.plot(color='red', label='train')\n",
        "l_depth_DataFrame.set_index('max_depth').\\\n",
        "metric_test1.plot(color='purple', label='test')\n",
        "plt.title('Сравнение метрики качество на тренировочных и тестовых данных', fontsize=10)\n",
        "plt.ylabel('Средняя абсолютная процентная ошибка', fontsize=9)\n",
        "plt.legend()\n",
        "plt.xlabel('Глубина деревьев', fontsize=9);"
      ]
    },
    {
      "cell_type": "markdown",
      "id": "9d865798",
      "metadata": {
        "id": "9d865798"
      },
      "source": [
        "<u>С увеличением глубины ошибка никак не меняется. На тренировочных данных результат намного лучше(что ожидаемо).</u>"
      ]
    },
    {
      "cell_type": "code",
      "execution_count": null,
      "id": "8884d42b",
      "metadata": {
        "id": "8884d42b",
        "outputId": "063f15ad-ef74-4e59-ec6e-abfc97dc2888"
      },
      "outputs": [
        {
          "data": {
            "image/png": "[encoded data removed]",
            "text/plain": [
              "<Figure size 500x400 with 1 Axes>"
            ]
          },
          "metadata": {},
          "output_type": "display_data"
        }
      ],
      "source": [
        "#перебор количества деревьев\n",
        "l_estimators = []\n",
        "plt.figure(figsize=(5, 4))\n",
        "for i in range(50, 300, 25):\n",
        "    forest2 = RandomForestRegressor\\\n",
        "    (n_estimators=i, random_state=42)\n",
        "    forest2.fit(X_train, y_train)\n",
        "    metric_train2 = mean_absolute_percentage_error\\\n",
        "    (y_train, forest2.predict(X_train))\n",
        "    metric_test2 = mean_absolute_percentage_error\\\n",
        "    (y_test, forest2.predict(X_test))\n",
        "    l_estimators.append([i, metric_train2, metric_test2])\n",
        "l_estimators_DataFrame = pd.DataFrame\\\n",
        "(l_depth, columns=['max_depth', 'metric_train2', 'metric_test2'])\n",
        "l_estimators_DataFrame.set_index('max_depth').\\\n",
        "metric_train2.plot(color='red', label='train')\n",
        "l_estimators_DataFrame.set_index('max_depth').\\\n",
        "metric_test2.plot(color='purple', label='test')\n",
        "plt.title('Сравнение метрики качество на тренировочных и тестовых данных',  fontsize=10)\n",
        "plt.ylabel('Средняя абсолютная процентная ошибка', fontsize=9)\n",
        "plt.legend()\n",
        "plt.xlabel('Количество деревьев', fontsize=9);"
      ]
    },
    {
      "cell_type": "markdown",
      "id": "0bbba3f5",
      "metadata": {
        "id": "0bbba3f5"
      },
      "source": [
        "<u>Тут такая же ситуация, поэтому не будем задавать значения этим параметрам.</u>"
      ]
    },
    {
      "cell_type": "code",
      "execution_count": null,
      "id": "cadac34e",
      "metadata": {
        "id": "cadac34e"
      },
      "outputs": [],
      "source": [
        "#создадим объект леса\n",
        "rfg= RandomForestRegressor(random_state=42)"
      ]
    },
    {
      "cell_type": "code",
      "execution_count": null,
      "id": "4c7cbe7f",
      "metadata": {
        "id": "4c7cbe7f",
        "outputId": "8bcdb2dc-07e8-4cb0-f6e9-8329bdc746bc"
      },
      "outputs": [
        {
          "data": {
            "text/html": [
              "<style>#sk-container-id-5 {color: black;}#sk-container-id-5 pre{padding: 0;}#sk-container-id-5 div.sk-toggleable {background-color: white;}#sk-container-id-5 label.sk-toggleable__label {cursor: pointer;display: block;width: 100%;margin-bottom: 0;padding: 0.3em;box-sizing: border-box;text-align: center;}#sk-container-id-5 label.sk-toggleable__label-arrow:before {content: \"▸\";float: left;margin-right: 0.25em;color: #696969;}#sk-container-id-5 label.sk-toggleable__label-arrow:hover:before {color: black;}#sk-container-id-5 div.sk-estimator:hover label.sk-toggleable__label-arrow:before {color: black;}#sk-container-id-5 div.sk-toggleable__content {max-height: 0;max-width: 0;overflow: hidden;text-align: left;background-color: #f0f8ff;}#sk-container-id-5 div.sk-toggleable__content pre {margin: 0.2em;color: black;border-radius: 0.25em;background-color: #f0f8ff;}#sk-container-id-5 input.sk-toggleable__control:checked~div.sk-toggleable__content {max-height: 200px;max-width: 100%;overflow: auto;}#sk-container-id-5 input.sk-toggleable__control:checked~label.sk-toggleable__label-arrow:before {content: \"▾\";}#sk-container-id-5 div.sk-estimator input.sk-toggleable__control:checked~label.sk-toggleable__label {background-color: #d4ebff;}#sk-container-id-5 div.sk-label input.sk-toggleable__control:checked~label.sk-toggleable__label {background-color: #d4ebff;}#sk-container-id-5 input.sk-hidden--visually {border: 0;clip: rect(1px 1px 1px 1px);clip: rect(1px, 1px, 1px, 1px);height: 1px;margin: -1px;overflow: hidden;padding: 0;position: absolute;width: 1px;}#sk-container-id-5 div.sk-estimator {font-family: monospace;background-color: #f0f8ff;border: 1px dotted black;border-radius: 0.25em;box-sizing: border-box;margin-bottom: 0.5em;}#sk-container-id-5 div.sk-estimator:hover {background-color: #d4ebff;}#sk-container-id-5 div.sk-parallel-item::after {content: \"\";width: 100%;border-bottom: 1px solid gray;flex-grow: 1;}#sk-container-id-5 div.sk-label:hover label.sk-toggleable__label {background-color: #d4ebff;}#sk-container-id-5 div.sk-serial::before {content: \"\";position: absolute;border-left: 1px solid gray;box-sizing: border-box;top: 0;bottom: 0;left: 50%;z-index: 0;}#sk-container-id-5 div.sk-serial {display: flex;flex-direction: column;align-items: center;background-color: white;padding-right: 0.2em;padding-left: 0.2em;position: relative;}#sk-container-id-5 div.sk-item {position: relative;z-index: 1;}#sk-container-id-5 div.sk-parallel {display: flex;align-items: stretch;justify-content: center;background-color: white;position: relative;}#sk-container-id-5 div.sk-item::before, #sk-container-id-5 div.sk-parallel-item::before {content: \"\";position: absolute;border-left: 1px solid gray;box-sizing: border-box;top: 0;bottom: 0;left: 50%;z-index: -1;}#sk-container-id-5 div.sk-parallel-item {display: flex;flex-direction: column;z-index: 1;position: relative;background-color: white;}#sk-container-id-5 div.sk-parallel-item:first-child::after {align-self: flex-end;width: 50%;}#sk-container-id-5 div.sk-parallel-item:last-child::after {align-self: flex-start;width: 50%;}#sk-container-id-5 div.sk-parallel-item:only-child::after {width: 0;}#sk-container-id-5 div.sk-dashed-wrapped {border: 1px dashed gray;margin: 0 0.4em 0.5em 0.4em;box-sizing: border-box;padding-bottom: 0.4em;background-color: white;}#sk-container-id-5 div.sk-label label {font-family: monospace;font-weight: bold;display: inline-block;line-height: 1.2em;}#sk-container-id-5 div.sk-label-container {text-align: center;}#sk-container-id-5 div.sk-container {/* jupyter's `normalize.less` sets `[hidden] { display: none; }` but bootstrap.min.css set `[hidden] { display: none !important; }` so we also need the `!important` here to be able to override the default hidden behavior on the sphinx rendered scikit-learn.org. See: https://github.com/scikit-learn/scikit-learn/issues/21755 */display: inline-block !important;position: relative;}#sk-container-id-5 div.sk-text-repr-fallback {display: none;}</style><div id=\"sk-container-id-5\" class=\"sk-top-container\"><div class=\"sk-text-repr-fallback\"><pre>RandomForestRegressor(random_state=42)</pre><b>In a Jupyter environment, please rerun this cell to show the HTML representation or trust the notebook. <br />On GitHub, the HTML representation is unable to render, please try loading this page with nbviewer.org.</b></div><div class=\"sk-container\" hidden><div class=\"sk-item\"><div class=\"sk-estimator sk-toggleable\"><input class=\"sk-toggleable__control sk-hidden--visually\" id=\"sk-estimator-id-5\" type=\"checkbox\" checked><label for=\"sk-estimator-id-5\" class=\"sk-toggleable__label sk-toggleable__label-arrow\">RandomForestRegressor</label><div class=\"sk-toggleable__content\"><pre>RandomForestRegressor(random_state=42)</pre></div></div></div></div></div>"
            ],
            "text/plain": [
              "RandomForestRegressor(random_state=42)"
            ]
          },
          "execution_count": 64,
          "metadata": {},
          "output_type": "execute_result"
        }
      ],
      "source": [
        "#обучим\n",
        "rfg.fit(X_train, y_train)"
      ]
    },
    {
      "cell_type": "code",
      "execution_count": null,
      "id": "c8bbf1de",
      "metadata": {
        "id": "c8bbf1de",
        "outputId": "ca893c0c-8349-4314-d9c3-245834c52cbf"
      },
      "outputs": [
        {
          "data": {
            "text/html": [
              "<div>\n",
              "<style scoped>\n",
              "    .dataframe tbody tr th:only-of-type {\n",
              "        vertical-align: middle;\n",
              "    }\n",
              "\n",
              "    .dataframe tbody tr th {\n",
              "        vertical-align: top;\n",
              "    }\n",
              "\n",
              "    .dataframe thead th {\n",
              "        text-align: right;\n",
              "    }\n",
              "</style>\n",
              "<table border=\"1\" class=\"dataframe\">\n",
              "  <thead>\n",
              "    <tr style=\"text-align: right;\">\n",
              "      <th></th>\n",
              "      <th>Средняя абсолютная процентная ошибка</th>\n",
              "    </tr>\n",
              "  </thead>\n",
              "  <tbody>\n",
              "    <tr>\n",
              "      <th>Валидационная выборка</th>\n",
              "      <td>0.083097</td>\n",
              "    </tr>\n",
              "    <tr>\n",
              "      <th>Тестовая выборка</th>\n",
              "      <td>0.082577</td>\n",
              "    </tr>\n",
              "  </tbody>\n",
              "</table>\n",
              "</div>"
            ],
            "text/plain": [
              "                       Средняя абсолютная процентная ошибка\n",
              "Валидационная выборка                              0.083097\n",
              "Тестовая выборка                                   0.082577"
            ]
          },
          "execution_count": 65,
          "metadata": {},
          "output_type": "execute_result"
        }
      ],
      "source": [
        "#оценим качество(mape) на валидационной и тестовой выборках\n",
        "pd.DataFrame([mean_absolute_percentage_error\\\n",
        "              (y_val, rfg.predict(X_val)),\n",
        "              mean_absolute_percentage_error\\\n",
        "              (y_test, rfg.predict(X_test))],\n",
        "             index=['Валидационная выборка', 'Тестовая выборка'],\n",
        "             columns=['Средняя абсолютная процентная ошибка'])"
      ]
    },
    {
      "cell_type": "code",
      "execution_count": null,
      "id": "73c5c2d6",
      "metadata": {
        "id": "73c5c2d6",
        "outputId": "091dc789-0c4a-4cd0-b993-946bd5621bbb"
      },
      "outputs": [
        {
          "data": {
            "text/html": [
              "<div>\n",
              "<style scoped>\n",
              "    .dataframe tbody tr th:only-of-type {\n",
              "        vertical-align: middle;\n",
              "    }\n",
              "\n",
              "    .dataframe tbody tr th {\n",
              "        vertical-align: top;\n",
              "    }\n",
              "\n",
              "    .dataframe thead th {\n",
              "        text-align: right;\n",
              "    }\n",
              "</style>\n",
              "<table border=\"1\" class=\"dataframe\">\n",
              "  <thead>\n",
              "    <tr style=\"text-align: right;\">\n",
              "      <th></th>\n",
              "      <th>Корень из среднеквадратичной ошибки</th>\n",
              "    </tr>\n",
              "  </thead>\n",
              "  <tbody>\n",
              "    <tr>\n",
              "      <th>Валидационная выборка</th>\n",
              "      <td>523.906097</td>\n",
              "    </tr>\n",
              "    <tr>\n",
              "      <th>Тестовая выборка</th>\n",
              "      <td>550.221368</td>\n",
              "    </tr>\n",
              "  </tbody>\n",
              "</table>\n",
              "</div>"
            ],
            "text/plain": [
              "                       Корень из среднеквадратичной ошибки\n",
              "Валидационная выборка                           523.906097\n",
              "Тестовая выборка                                550.221368"
            ]
          },
          "execution_count": 66,
          "metadata": {},
          "output_type": "execute_result"
        }
      ],
      "source": [
        "#оценим качество(rmse) на валидационной и тестовой выборках\n",
        "pd.DataFrame([mean_squared_error\\\n",
        "              (y_val, rfg.predict(X_val), squared=False),\n",
        "              mean_squared_error\\\n",
        "              (y_test, rfg.predict(X_test), squared=False)],\n",
        "             index=['Валидационная выборка', 'Тестовая выборка'],\n",
        "             columns=['Корень из среднеквадратичной ошибки'])"
      ]
    },
    {
      "cell_type": "code",
      "execution_count": null,
      "id": "30e43eae",
      "metadata": {
        "id": "30e43eae"
      },
      "outputs": [],
      "source": [
        "#сохраним в отдельные переменные\n",
        "c1 = mean_absolute_percentage_error\\\n",
        "(y_test, rfg.predict(X_test))\n",
        "c2 =  mean_squared_error\\\n",
        "(y_test, rfg.predict(X_test), squared=False)"
      ]
    },
    {
      "cell_type": "markdown",
      "id": "6acdffda",
      "metadata": {
        "id": "6acdffda"
      },
      "source": [
        "<u>MAPE показывает результаты близкие к идеальным. Ну можно сказать идеальные, тк тут выходит меньше процента.А вот с rmse еще не все так хорошо. Проверим как сработает бустинг. </u>"
      ]
    },
    {
      "cell_type": "markdown",
      "id": "3ec2eb78",
      "metadata": {
        "id": "3ec2eb78"
      },
      "source": [
        "<p style='border:2px black solid; padding:10px'>Градиентный бустинг</p>"
      ]
    },
    {
      "cell_type": "markdown",
      "id": "9190c958",
      "metadata": {
        "id": "9190c958"
      },
      "source": [
        "Использовать я буду библиотеку CatBoost."
      ]
    },
    {
      "cell_type": "code",
      "execution_count": null,
      "id": "0d1ce482",
      "metadata": {
        "id": "0d1ce482"
      },
      "outputs": [],
      "source": [
        "#создадим объект\n",
        "cat = CatBoostRegressor(random_state=42, \\\n",
        "                        iterations=1500, custom_metric=['RMSE', 'MAPE'])"
      ]
    },
    {
      "cell_type": "code",
      "execution_count": null,
      "id": "906c6bed",
      "metadata": {
        "id": "906c6bed",
        "outputId": "20ebd5a7-a3b1-4310-bc22-ce8012e145dc",
        "colab": {
          "referenced_widgets": [
            "d0ca099703a3403390886b6e87434fd7"
          ]
        }
      },
      "outputs": [
        {
          "data": {
            "application/vnd.jupyter.widget-view+json": {
              "model_id": "d0ca099703a3403390886b6e87434fd7",
              "version_major": 2,
              "version_minor": 0
            },
            "text/plain": [
              "MetricVisualizer(layout=Layout(align_self='stretch', height='500px'))"
            ]
          },
          "metadata": {},
          "output_type": "display_data"
        },
        {
          "data": {
            "text/plain": [
              "<catboost.core.CatBoostRegressor at 0x27902d81990>"
            ]
          },
          "execution_count": 69,
          "metadata": {},
          "output_type": "execute_result"
        }
      ],
      "source": [
        "#обучим\n",
        "cat.fit(X_train, y_train,\n",
        "          verbose=False, plot=True)"
      ]
    },
    {
      "cell_type": "markdown",
      "id": "b7f060e9",
      "metadata": {
        "id": "b7f060e9"
      },
      "source": [
        "<u>На графике можно увидеть процесс обучение с рассчетом mape и rmse.</u>"
      ]
    },
    {
      "cell_type": "code",
      "execution_count": null,
      "id": "44dfca1d",
      "metadata": {
        "id": "44dfca1d",
        "outputId": "5f479d4a-8d23-4706-ed67-456d518cee14"
      },
      "outputs": [
        {
          "data": {
            "text/html": [
              "<div>\n",
              "<style scoped>\n",
              "    .dataframe tbody tr th:only-of-type {\n",
              "        vertical-align: middle;\n",
              "    }\n",
              "\n",
              "    .dataframe tbody tr th {\n",
              "        vertical-align: top;\n",
              "    }\n",
              "\n",
              "    .dataframe thead th {\n",
              "        text-align: right;\n",
              "    }\n",
              "</style>\n",
              "<table border=\"1\" class=\"dataframe\">\n",
              "  <thead>\n",
              "    <tr style=\"text-align: right;\">\n",
              "      <th></th>\n",
              "      <th>Средняя абсолютная процентная ошибка</th>\n",
              "    </tr>\n",
              "  </thead>\n",
              "  <tbody>\n",
              "    <tr>\n",
              "      <th>Валидационная выборка</th>\n",
              "      <td>0.077987</td>\n",
              "    </tr>\n",
              "    <tr>\n",
              "      <th>Тестовая выборка</th>\n",
              "      <td>0.078962</td>\n",
              "    </tr>\n",
              "  </tbody>\n",
              "</table>\n",
              "</div>"
            ],
            "text/plain": [
              "                       Средняя абсолютная процентная ошибка\n",
              "Валидационная выборка                              0.077987\n",
              "Тестовая выборка                                   0.078962"
            ]
          },
          "execution_count": 70,
          "metadata": {},
          "output_type": "execute_result"
        }
      ],
      "source": [
        "#оценим качество(mape) на валидационной и тестовой выборках\n",
        "pd.DataFrame([mean_absolute_percentage_error\\\n",
        "              (y_val, cat.predict(X_val)),\n",
        "              mean_absolute_percentage_error\\\n",
        "              (y_test, cat.predict(X_test))],\n",
        "             index=['Валидационная выборка', 'Тестовая выборка'],\n",
        "             columns=['Средняя абсолютная процентная ошибка'])"
      ]
    },
    {
      "cell_type": "code",
      "execution_count": null,
      "id": "89de3e74",
      "metadata": {
        "scrolled": true,
        "id": "89de3e74",
        "outputId": "4930be71-d2bb-482d-e433-0c6e77f28b2b"
      },
      "outputs": [
        {
          "data": {
            "text/html": [
              "<div>\n",
              "<style scoped>\n",
              "    .dataframe tbody tr th:only-of-type {\n",
              "        vertical-align: middle;\n",
              "    }\n",
              "\n",
              "    .dataframe tbody tr th {\n",
              "        vertical-align: top;\n",
              "    }\n",
              "\n",
              "    .dataframe thead th {\n",
              "        text-align: right;\n",
              "    }\n",
              "</style>\n",
              "<table border=\"1\" class=\"dataframe\">\n",
              "  <thead>\n",
              "    <tr style=\"text-align: right;\">\n",
              "      <th></th>\n",
              "      <th>Корень из среднеквадратичной ошибки</th>\n",
              "    </tr>\n",
              "  </thead>\n",
              "  <tbody>\n",
              "    <tr>\n",
              "      <th>Валидационная выборка</th>\n",
              "      <td>494.993571</td>\n",
              "    </tr>\n",
              "    <tr>\n",
              "      <th>Тестовая выборка</th>\n",
              "      <td>517.502826</td>\n",
              "    </tr>\n",
              "  </tbody>\n",
              "</table>\n",
              "</div>"
            ],
            "text/plain": [
              "                       Корень из среднеквадратичной ошибки\n",
              "Валидационная выборка                           494.993571\n",
              "Тестовая выборка                                517.502826"
            ]
          },
          "execution_count": 71,
          "metadata": {},
          "output_type": "execute_result"
        }
      ],
      "source": [
        "#оценим качество(rmse) на валидационной и тестовой выборках\n",
        "pd.DataFrame([mean_squared_error\\\n",
        "              (y_val, cat.predict(X_val), squared=False),\n",
        "              mean_squared_error\\\n",
        "              (y_test, cat.predict(X_test), squared=False)],\n",
        "             index=['Валидационная выборка', 'Тестовая выборка'],\n",
        "             columns=['Корень из среднеквадратичной ошибки'])"
      ]
    },
    {
      "cell_type": "code",
      "execution_count": null,
      "id": "f86005ea",
      "metadata": {
        "id": "f86005ea"
      },
      "outputs": [],
      "source": [
        "#сохраним в отдельные переменные\n",
        "d1 = mean_absolute_percentage_error\\\n",
        "(y_test, cat.predict(X_test))\n",
        "d2 =  mean_squared_error\\\n",
        "(y_test, cat.predict(X_test), squared=False)"
      ]
    },
    {
      "cell_type": "markdown",
      "id": "ee952ada",
      "metadata": {
        "id": "ee952ada"
      },
      "source": [
        "<u>Качество стало чуть лучше в сравнении с лесом решений.</u>"
      ]
    },
    {
      "cell_type": "markdown",
      "id": "b9fbbaa7",
      "metadata": {
        "id": "b9fbbaa7"
      },
      "source": [
        "<p style='border:2px black solid; padding:10px'>Нейронные сети</p>"
      ]
    },
    {
      "cell_type": "markdown",
      "id": "4833c09c",
      "metadata": {
        "id": "4833c09c"
      },
      "source": [
        "Использовать буду библиотеку tensorflow."
      ]
    },
    {
      "cell_type": "code",
      "execution_count": null,
      "id": "9bf3202f",
      "metadata": {
        "id": "9bf3202f",
        "outputId": "82490adc-3b9e-452f-a2c7-655bde4aa6f3"
      },
      "outputs": [
        {
          "name": "stdout",
          "output_type": "stream",
          "text": [
            "WARNING:tensorflow:From D:\\mamba\\lib\\site-packages\\keras\\src\\backend.py:873: The name tf.get_default_graph is deprecated. Please use tf.compat.v1.get_default_graph instead.\n",
            "\n"
          ]
        }
      ],
      "source": [
        "#создадим модель\n",
        "#оздадим модель\n",
        "model = Sequential()\n",
        "model.add(Dense(1024, activation='relu'))\n",
        "model.add(Dense(512, activation='relu'))\n",
        "model.add(Dense(256,  activation='relu'))\n",
        "model.add(Dense(64, activation='relu'))\n",
        "model.add(Dense(32, activation='relu'))\n",
        "model.add(Dense(1, activation='linear'))"
      ]
    },
    {
      "cell_type": "code",
      "execution_count": null,
      "id": "313f6cc3",
      "metadata": {
        "id": "313f6cc3"
      },
      "outputs": [],
      "source": [
        "#компилируем\n",
        "model.compile( loss= tf.keras.losses.MeanAbsoluteError(),\n",
        "              optimizer=tf.keras.optimizers.Adam(),\n",
        "              metrics=tf.keras.metrics.RootMeanSquaredError())"
      ]
    },
    {
      "cell_type": "code",
      "execution_count": null,
      "id": "50d1f908",
      "metadata": {
        "scrolled": true,
        "id": "50d1f908",
        "outputId": "b10c945b-738e-4fc5-ab8c-e3ccc062379c"
      },
      "outputs": [
        {
          "name": "stdout",
          "output_type": "stream",
          "text": [
            "Epoch 1/100\n",
            "WARNING:tensorflow:From D:\\mamba\\lib\\site-packages\\keras\\src\\utils\\tf_utils.py:492: The name tf.ragged.RaggedTensorValue is deprecated. Please use tf.compat.v1.ragged.RaggedTensorValue instead.\n",
            "\n",
            "1928/1928 [==============================] - 37s 16ms/step - loss: 554.1826 - root_mean_squared_error: 1232.9117 - val_loss: 387.2479 - val_root_mean_squared_error: 763.6292\n",
            "Epoch 2/100\n",
            "1928/1928 [==============================] - 20s 10ms/step - loss: 380.9875 - root_mean_squared_error: 783.9741 - val_loss: 356.9411 - val_root_mean_squared_error: 705.1061\n",
            "Epoch 3/100\n",
            "1928/1928 [==============================] - 21s 11ms/step - loss: 369.1549 - root_mean_squared_error: 756.7264 - val_loss: 355.2657 - val_root_mean_squared_error: 696.8553\n",
            "Epoch 4/100\n",
            "1928/1928 [==============================] - 19s 10ms/step - loss: 363.4768 - root_mean_squared_error: 723.3805 - val_loss: 329.8735 - val_root_mean_squared_error: 660.4301\n",
            "Epoch 5/100\n",
            "1928/1928 [==============================] - 19s 10ms/step - loss: 355.4537 - root_mean_squared_error: 711.7964 - val_loss: 322.8902 - val_root_mean_squared_error: 652.3373\n",
            "Epoch 6/100\n",
            "1928/1928 [==============================] - 20s 10ms/step - loss: 343.8055 - root_mean_squared_error: 681.0038 - val_loss: 325.0741 - val_root_mean_squared_error: 667.5128\n",
            "Epoch 7/100\n",
            "1928/1928 [==============================] - 19s 10ms/step - loss: 332.6283 - root_mean_squared_error: 643.6095 - val_loss: 304.5642 - val_root_mean_squared_error: 578.6033\n",
            "Epoch 8/100\n",
            "1928/1928 [==============================] - 19s 10ms/step - loss: 326.6754 - root_mean_squared_error: 628.5691 - val_loss: 305.0546 - val_root_mean_squared_error: 571.0378\n",
            "Epoch 9/100\n",
            "1928/1928 [==============================] - 20s 10ms/step - loss: 325.5281 - root_mean_squared_error: 626.8894 - val_loss: 304.2825 - val_root_mean_squared_error: 577.8968\n",
            "Epoch 10/100\n",
            "1928/1928 [==============================] - 19s 10ms/step - loss: 324.6804 - root_mean_squared_error: 621.4835 - val_loss: 293.2039 - val_root_mean_squared_error: 570.5104\n",
            "Epoch 11/100\n",
            "1928/1928 [==============================] - 18s 10ms/step - loss: 320.1711 - root_mean_squared_error: 614.5857 - val_loss: 338.1113 - val_root_mean_squared_error: 616.0012\n",
            "Epoch 12/100\n",
            "1928/1928 [==============================] - 19s 10ms/step - loss: 315.4793 - root_mean_squared_error: 612.4815 - val_loss: 291.3333 - val_root_mean_squared_error: 559.2501\n",
            "Epoch 13/100\n",
            "1928/1928 [==============================] - 19s 10ms/step - loss: 315.5640 - root_mean_squared_error: 608.8167 - val_loss: 284.0791 - val_root_mean_squared_error: 556.7738\n",
            "Epoch 14/100\n",
            "1928/1928 [==============================] - 19s 10ms/step - loss: 314.9852 - root_mean_squared_error: 606.7144 - val_loss: 291.9105 - val_root_mean_squared_error: 601.0234\n",
            "Epoch 15/100\n",
            "1928/1928 [==============================] - 19s 10ms/step - loss: 309.5460 - root_mean_squared_error: 602.6158 - val_loss: 295.4525 - val_root_mean_squared_error: 597.9099\n",
            "Epoch 16/100\n",
            "1928/1928 [==============================] - 19s 10ms/step - loss: 311.0270 - root_mean_squared_error: 603.2269 - val_loss: 339.7140 - val_root_mean_squared_error: 631.1613\n",
            "Epoch 17/100\n",
            "1928/1928 [==============================] - 18s 10ms/step - loss: 307.9362 - root_mean_squared_error: 603.1378 - val_loss: 291.7957 - val_root_mean_squared_error: 568.1641\n",
            "Epoch 18/100\n",
            "1928/1928 [==============================] - 19s 10ms/step - loss: 306.0158 - root_mean_squared_error: 594.4161 - val_loss: 296.2212 - val_root_mean_squared_error: 578.6406\n",
            "Epoch 19/100\n",
            "1928/1928 [==============================] - 19s 10ms/step - loss: 305.9612 - root_mean_squared_error: 597.4712 - val_loss: 281.4873 - val_root_mean_squared_error: 542.8506\n",
            "Epoch 20/100\n",
            "1928/1928 [==============================] - 19s 10ms/step - loss: 302.9926 - root_mean_squared_error: 590.4412 - val_loss: 290.2817 - val_root_mean_squared_error: 572.9578\n",
            "Epoch 21/100\n",
            "1928/1928 [==============================] - 19s 10ms/step - loss: 303.5470 - root_mean_squared_error: 594.4266 - val_loss: 329.9758 - val_root_mean_squared_error: 591.4900\n",
            "Epoch 22/100\n",
            "1928/1928 [==============================] - 19s 10ms/step - loss: 301.0691 - root_mean_squared_error: 586.0499 - val_loss: 284.2890 - val_root_mean_squared_error: 573.0435\n",
            "Epoch 23/100\n",
            "1928/1928 [==============================] - 19s 10ms/step - loss: 301.1774 - root_mean_squared_error: 588.8172 - val_loss: 287.9490 - val_root_mean_squared_error: 547.2542\n",
            "Epoch 24/100\n",
            "1928/1928 [==============================] - 19s 10ms/step - loss: 296.6922 - root_mean_squared_error: 586.3295 - val_loss: 286.8101 - val_root_mean_squared_error: 587.7921\n",
            "Epoch 25/100\n",
            "1928/1928 [==============================] - 23s 12ms/step - loss: 298.7254 - root_mean_squared_error: 583.5602 - val_loss: 286.7524 - val_root_mean_squared_error: 564.2333\n",
            "Epoch 26/100\n",
            "1928/1928 [==============================] - 21s 11ms/step - loss: 297.4467 - root_mean_squared_error: 582.1475 - val_loss: 280.4779 - val_root_mean_squared_error: 549.6385\n",
            "Epoch 27/100\n",
            "1928/1928 [==============================] - 22s 11ms/step - loss: 297.2744 - root_mean_squared_error: 583.8420 - val_loss: 294.6862 - val_root_mean_squared_error: 551.0037\n",
            "Epoch 28/100\n",
            "1928/1928 [==============================] - 22s 12ms/step - loss: 296.3837 - root_mean_squared_error: 584.2002 - val_loss: 284.0612 - val_root_mean_squared_error: 555.1362\n",
            "Epoch 29/100\n",
            "1928/1928 [==============================] - 21s 11ms/step - loss: 296.2002 - root_mean_squared_error: 580.6240 - val_loss: 283.5409 - val_root_mean_squared_error: 567.0412\n",
            "Epoch 30/100\n",
            "1928/1928 [==============================] - 21s 11ms/step - loss: 295.3625 - root_mean_squared_error: 579.1187 - val_loss: 333.3276 - val_root_mean_squared_error: 596.8579\n",
            "Epoch 31/100\n",
            "1928/1928 [==============================] - 22s 11ms/step - loss: 293.0775 - root_mean_squared_error: 575.3300 - val_loss: 280.7635 - val_root_mean_squared_error: 559.2703\n",
            "Epoch 32/100\n",
            "1928/1928 [==============================] - 21s 11ms/step - loss: 294.2487 - root_mean_squared_error: 577.1357 - val_loss: 277.7937 - val_root_mean_squared_error: 547.2261\n",
            "Epoch 33/100\n",
            "1928/1928 [==============================] - 22s 11ms/step - loss: 294.6895 - root_mean_squared_error: 581.0629 - val_loss: 283.8111 - val_root_mean_squared_error: 593.0095\n",
            "Epoch 34/100\n",
            "1928/1928 [==============================] - 21s 11ms/step - loss: 288.4762 - root_mean_squared_error: 573.6000 - val_loss: 283.0111 - val_root_mean_squared_error: 555.6875\n",
            "Epoch 35/100\n",
            "1928/1928 [==============================] - 22s 11ms/step - loss: 291.6091 - root_mean_squared_error: 574.1808 - val_loss: 272.3777 - val_root_mean_squared_error: 543.9064\n",
            "Epoch 36/100\n",
            "1928/1928 [==============================] - 22s 11ms/step - loss: 289.0102 - root_mean_squared_error: 572.5080 - val_loss: 334.2740 - val_root_mean_squared_error: 586.4184\n",
            "Epoch 37/100\n",
            "1928/1928 [==============================] - 21s 11ms/step - loss: 288.9138 - root_mean_squared_error: 569.7519 - val_loss: 331.1457 - val_root_mean_squared_error: 592.4360\n",
            "Epoch 38/100\n",
            "1928/1928 [==============================] - 21s 11ms/step - loss: 287.2315 - root_mean_squared_error: 569.5693 - val_loss: 283.2956 - val_root_mean_squared_error: 558.2505\n",
            "Epoch 39/100\n",
            "1928/1928 [==============================] - 22s 11ms/step - loss: 286.8464 - root_mean_squared_error: 570.9967 - val_loss: 281.6864 - val_root_mean_squared_error: 535.0917\n",
            "Epoch 40/100\n",
            "1928/1928 [==============================] - 21s 11ms/step - loss: 286.9638 - root_mean_squared_error: 563.5956 - val_loss: 287.4408 - val_root_mean_squared_error: 556.1340\n",
            "Epoch 41/100\n",
            "1928/1928 [==============================] - 22s 11ms/step - loss: 284.9030 - root_mean_squared_error: 563.6000 - val_loss: 282.0963 - val_root_mean_squared_error: 536.7592\n",
            "Epoch 42/100\n",
            "1928/1928 [==============================] - 21s 11ms/step - loss: 285.4906 - root_mean_squared_error: 566.5468 - val_loss: 276.6989 - val_root_mean_squared_error: 556.9445\n",
            "Epoch 43/100\n",
            "1928/1928 [==============================] - 21s 11ms/step - loss: 287.3506 - root_mean_squared_error: 569.1199 - val_loss: 278.9879 - val_root_mean_squared_error: 538.1907\n",
            "Epoch 44/100\n"
          ]
        },
        {
          "name": "stdout",
          "output_type": "stream",
          "text": [
            "1928/1928 [==============================] - 20s 11ms/step - loss: 286.4608 - root_mean_squared_error: 569.8630 - val_loss: 286.1892 - val_root_mean_squared_error: 567.2231\n",
            "Epoch 45/100\n",
            "1928/1928 [==============================] - 21s 11ms/step - loss: 285.5377 - root_mean_squared_error: 566.6998 - val_loss: 274.0885 - val_root_mean_squared_error: 545.6691\n",
            "Epoch 46/100\n",
            "1928/1928 [==============================] - 20s 11ms/step - loss: 286.6889 - root_mean_squared_error: 569.8450 - val_loss: 303.9953 - val_root_mean_squared_error: 564.8939\n",
            "Epoch 47/100\n",
            "1928/1928 [==============================] - 21s 11ms/step - loss: 285.2191 - root_mean_squared_error: 563.7437 - val_loss: 283.0436 - val_root_mean_squared_error: 557.6608\n",
            "Epoch 48/100\n",
            "1928/1928 [==============================] - 20s 10ms/step - loss: 282.3512 - root_mean_squared_error: 560.7627 - val_loss: 308.0107 - val_root_mean_squared_error: 591.9333\n",
            "Epoch 49/100\n",
            "1928/1928 [==============================] - 20s 10ms/step - loss: 281.1800 - root_mean_squared_error: 559.5287 - val_loss: 269.2584 - val_root_mean_squared_error: 540.8131\n",
            "Epoch 50/100\n",
            "1928/1928 [==============================] - 21s 11ms/step - loss: 283.4419 - root_mean_squared_error: 565.3894 - val_loss: 276.3914 - val_root_mean_squared_error: 533.0793\n",
            "Epoch 51/100\n",
            "1928/1928 [==============================] - 21s 11ms/step - loss: 280.9528 - root_mean_squared_error: 561.2874 - val_loss: 286.5167 - val_root_mean_squared_error: 548.2153\n",
            "Epoch 52/100\n",
            "1928/1928 [==============================] - 21s 11ms/step - loss: 282.0793 - root_mean_squared_error: 558.7233 - val_loss: 279.8823 - val_root_mean_squared_error: 539.3990\n",
            "Epoch 53/100\n",
            "1928/1928 [==============================] - 21s 11ms/step - loss: 281.8139 - root_mean_squared_error: 557.1372 - val_loss: 272.2787 - val_root_mean_squared_error: 544.0242\n",
            "Epoch 54/100\n",
            "1928/1928 [==============================] - 22s 11ms/step - loss: 280.1919 - root_mean_squared_error: 561.2942 - val_loss: 271.1695 - val_root_mean_squared_error: 541.0911\n",
            "Epoch 55/100\n",
            "1928/1928 [==============================] - 21s 11ms/step - loss: 279.4202 - root_mean_squared_error: 558.5057 - val_loss: 270.7875 - val_root_mean_squared_error: 544.0395\n",
            "Epoch 56/100\n",
            "1928/1928 [==============================] - 23s 12ms/step - loss: 281.1504 - root_mean_squared_error: 556.8112 - val_loss: 313.4531 - val_root_mean_squared_error: 596.2859\n",
            "Epoch 57/100\n",
            "1928/1928 [==============================] - 21s 11ms/step - loss: 280.2520 - root_mean_squared_error: 555.1094 - val_loss: 276.0163 - val_root_mean_squared_error: 548.4041\n",
            "Epoch 58/100\n",
            "1928/1928 [==============================] - 22s 11ms/step - loss: 279.5000 - root_mean_squared_error: 560.1797 - val_loss: 273.3430 - val_root_mean_squared_error: 542.9006\n",
            "Epoch 59/100\n",
            "1928/1928 [==============================] - 21s 11ms/step - loss: 278.0840 - root_mean_squared_error: 554.9182 - val_loss: 269.8755 - val_root_mean_squared_error: 538.1075\n",
            "Epoch 60/100\n",
            "1928/1928 [==============================] - 21s 11ms/step - loss: 278.3984 - root_mean_squared_error: 556.8350 - val_loss: 273.4056 - val_root_mean_squared_error: 546.8743\n",
            "Epoch 61/100\n",
            "1928/1928 [==============================] - 22s 11ms/step - loss: 279.2660 - root_mean_squared_error: 558.8054 - val_loss: 272.4301 - val_root_mean_squared_error: 533.5815\n",
            "Epoch 62/100\n",
            "1928/1928 [==============================] - 23s 12ms/step - loss: 276.8124 - root_mean_squared_error: 551.4584 - val_loss: 278.9240 - val_root_mean_squared_error: 550.1288\n",
            "Epoch 63/100\n",
            "1928/1928 [==============================] - 22s 11ms/step - loss: 276.7396 - root_mean_squared_error: 551.8702 - val_loss: 276.4203 - val_root_mean_squared_error: 544.2875\n",
            "Epoch 64/100\n",
            "1928/1928 [==============================] - 23s 12ms/step - loss: 277.6103 - root_mean_squared_error: 554.9019 - val_loss: 278.9246 - val_root_mean_squared_error: 546.6497\n",
            "Epoch 65/100\n",
            "1928/1928 [==============================] - 22s 12ms/step - loss: 276.3335 - root_mean_squared_error: 553.4842 - val_loss: 300.0177 - val_root_mean_squared_error: 559.1337\n",
            "Epoch 66/100\n",
            "1928/1928 [==============================] - 22s 11ms/step - loss: 276.5210 - root_mean_squared_error: 551.5212 - val_loss: 270.7565 - val_root_mean_squared_error: 530.0062\n",
            "Epoch 67/100\n",
            "1928/1928 [==============================] - 23s 12ms/step - loss: 275.9307 - root_mean_squared_error: 547.5390 - val_loss: 280.8918 - val_root_mean_squared_error: 558.4801\n",
            "Epoch 68/100\n",
            "1928/1928 [==============================] - 22s 11ms/step - loss: 275.7620 - root_mean_squared_error: 549.2719 - val_loss: 293.5024 - val_root_mean_squared_error: 555.4846\n",
            "Epoch 69/100\n",
            "1928/1928 [==============================] - 25s 13ms/step - loss: 275.3406 - root_mean_squared_error: 555.5785 - val_loss: 278.9324 - val_root_mean_squared_error: 534.5635\n",
            "Epoch 70/100\n",
            "1928/1928 [==============================] - 23s 12ms/step - loss: 274.9265 - root_mean_squared_error: 547.9505 - val_loss: 280.9593 - val_root_mean_squared_error: 545.8819\n",
            "Epoch 71/100\n",
            "1928/1928 [==============================] - 21s 11ms/step - loss: 276.9602 - root_mean_squared_error: 557.9670 - val_loss: 268.7924 - val_root_mean_squared_error: 538.0054\n",
            "Epoch 72/100\n",
            "1928/1928 [==============================] - 22s 12ms/step - loss: 274.2216 - root_mean_squared_error: 546.3083 - val_loss: 292.4237 - val_root_mean_squared_error: 577.1394\n",
            "Epoch 73/100\n",
            "1928/1928 [==============================] - 21s 11ms/step - loss: 273.8132 - root_mean_squared_error: 546.3122 - val_loss: 284.6392 - val_root_mean_squared_error: 584.9012\n",
            "Epoch 74/100\n",
            "1928/1928 [==============================] - 22s 11ms/step - loss: 272.7091 - root_mean_squared_error: 545.5108 - val_loss: 270.5969 - val_root_mean_squared_error: 543.5155\n",
            "Epoch 75/100\n",
            "1928/1928 [==============================] - 22s 11ms/step - loss: 273.3216 - root_mean_squared_error: 545.3215 - val_loss: 268.1593 - val_root_mean_squared_error: 531.5021\n",
            "Epoch 76/100\n",
            "1928/1928 [==============================] - 21s 11ms/step - loss: 273.8495 - root_mean_squared_error: 543.7484 - val_loss: 269.9797 - val_root_mean_squared_error: 545.9660\n",
            "Epoch 77/100\n",
            "1928/1928 [==============================] - 21s 11ms/step - loss: 271.9169 - root_mean_squared_error: 545.3389 - val_loss: 269.6976 - val_root_mean_squared_error: 543.8688\n",
            "Epoch 78/100\n",
            "1928/1928 [==============================] - 22s 12ms/step - loss: 273.4203 - root_mean_squared_error: 550.4564 - val_loss: 273.2170 - val_root_mean_squared_error: 542.4598\n",
            "Epoch 79/100\n",
            "1928/1928 [==============================] - 21s 11ms/step - loss: 271.7207 - root_mean_squared_error: 542.2882 - val_loss: 277.0012 - val_root_mean_squared_error: 555.8774\n",
            "Epoch 80/100\n",
            "1928/1928 [==============================] - 22s 12ms/step - loss: 271.0714 - root_mean_squared_error: 541.4697 - val_loss: 278.3704 - val_root_mean_squared_error: 565.9781\n",
            "Epoch 81/100\n",
            "1928/1928 [==============================] - 21s 11ms/step - loss: 271.7868 - root_mean_squared_error: 546.4860 - val_loss: 304.2357 - val_root_mean_squared_error: 638.0924\n",
            "Epoch 82/100\n",
            "1928/1928 [==============================] - 21s 11ms/step - loss: 271.9603 - root_mean_squared_error: 546.9794 - val_loss: 269.7179 - val_root_mean_squared_error: 525.9085\n",
            "Epoch 83/100\n",
            "1928/1928 [==============================] - 22s 11ms/step - loss: 270.1162 - root_mean_squared_error: 541.5862 - val_loss: 290.3265 - val_root_mean_squared_error: 580.4720\n",
            "Epoch 84/100\n",
            "1928/1928 [==============================] - 22s 11ms/step - loss: 269.5940 - root_mean_squared_error: 542.9271 - val_loss: 272.0862 - val_root_mean_squared_error: 543.4921\n",
            "Epoch 85/100\n",
            "1928/1928 [==============================] - 22s 11ms/step - loss: 271.4624 - root_mean_squared_error: 544.9734 - val_loss: 271.6703 - val_root_mean_squared_error: 527.6349\n",
            "Epoch 86/100\n",
            "1928/1928 [==============================] - 22s 11ms/step - loss: 271.3722 - root_mean_squared_error: 543.9966 - val_loss: 280.1456 - val_root_mean_squared_error: 560.3338\n",
            "Epoch 87/100\n",
            "1928/1928 [==============================] - 22s 11ms/step - loss: 270.7330 - root_mean_squared_error: 540.3049 - val_loss: 279.4377 - val_root_mean_squared_error: 556.2823\n",
            "Epoch 88/100\n"
          ]
        },
        {
          "name": "stdout",
          "output_type": "stream",
          "text": [
            "1928/1928 [==============================] - 21s 11ms/step - loss: 271.2521 - root_mean_squared_error: 545.7830 - val_loss: 270.9200 - val_root_mean_squared_error: 532.9493\n",
            "Epoch 89/100\n",
            "1928/1928 [==============================] - 23s 12ms/step - loss: 269.8421 - root_mean_squared_error: 541.9259 - val_loss: 279.5841 - val_root_mean_squared_error: 545.8770\n",
            "Epoch 90/100\n",
            "1928/1928 [==============================] - 20s 10ms/step - loss: 269.8485 - root_mean_squared_error: 543.5399 - val_loss: 272.6387 - val_root_mean_squared_error: 532.4219\n",
            "Epoch 91/100\n",
            "1928/1928 [==============================] - 25s 13ms/step - loss: 268.5926 - root_mean_squared_error: 540.5563 - val_loss: 287.8170 - val_root_mean_squared_error: 542.7250\n",
            "Epoch 92/100\n",
            "1928/1928 [==============================] - 23s 12ms/step - loss: 268.0023 - root_mean_squared_error: 537.1628 - val_loss: 275.6169 - val_root_mean_squared_error: 550.8108\n",
            "Epoch 93/100\n",
            "1928/1928 [==============================] - 24s 12ms/step - loss: 268.1363 - root_mean_squared_error: 537.9984 - val_loss: 341.3618 - val_root_mean_squared_error: 607.5845\n",
            "Epoch 94/100\n",
            "1928/1928 [==============================] - 21s 11ms/step - loss: 267.9235 - root_mean_squared_error: 537.5277 - val_loss: 282.7333 - val_root_mean_squared_error: 539.2664\n",
            "Epoch 95/100\n",
            "1928/1928 [==============================] - 21s 11ms/step - loss: 268.5976 - root_mean_squared_error: 539.7719 - val_loss: 283.5140 - val_root_mean_squared_error: 565.7432\n",
            "Epoch 96/100\n",
            "1928/1928 [==============================] - 19s 10ms/step - loss: 267.2338 - root_mean_squared_error: 535.8930 - val_loss: 268.4070 - val_root_mean_squared_error: 534.3988\n",
            "Epoch 97/100\n",
            "1928/1928 [==============================] - 20s 10ms/step - loss: 267.8502 - root_mean_squared_error: 540.2520 - val_loss: 273.7079 - val_root_mean_squared_error: 551.9211\n",
            "Epoch 98/100\n",
            "1928/1928 [==============================] - 19s 10ms/step - loss: 267.3755 - root_mean_squared_error: 540.5998 - val_loss: 278.7318 - val_root_mean_squared_error: 544.7225\n",
            "Epoch 99/100\n",
            "1928/1928 [==============================] - 19s 10ms/step - loss: 266.3712 - root_mean_squared_error: 537.6292 - val_loss: 271.2964 - val_root_mean_squared_error: 543.9379\n",
            "Epoch 100/100\n",
            "1928/1928 [==============================] - 22s 12ms/step - loss: 267.2710 - root_mean_squared_error: 534.9501 - val_loss: 274.2751 - val_root_mean_squared_error: 541.0269\n"
          ]
        },
        {
          "data": {
            "text/plain": [
              "<keras.src.callbacks.History at 0x27918825e40>"
            ]
          },
          "execution_count": 75,
          "metadata": {},
          "output_type": "execute_result"
        }
      ],
      "source": [
        "#обучим\n",
        "model.fit(X_train, y_train, batch_size=15, \\\n",
        "          epochs=100, verbose=1, validation_split=0.2)"
      ]
    },
    {
      "cell_type": "code",
      "execution_count": null,
      "id": "b0ecde5b",
      "metadata": {
        "id": "b0ecde5b",
        "outputId": "eb242ceb-d89b-42c1-f302-9c4762c57013"
      },
      "outputs": [
        {
          "name": "stdout",
          "output_type": "stream",
          "text": [
            "56/56 [==============================] - 3s 4ms/step\n",
            "501/501 [==============================] - 3s 5ms/step\n"
          ]
        },
        {
          "data": {
            "text/html": [
              "<div>\n",
              "<style scoped>\n",
              "    .dataframe tbody tr th:only-of-type {\n",
              "        vertical-align: middle;\n",
              "    }\n",
              "\n",
              "    .dataframe tbody tr th {\n",
              "        vertical-align: top;\n",
              "    }\n",
              "\n",
              "    .dataframe thead th {\n",
              "        text-align: right;\n",
              "    }\n",
              "</style>\n",
              "<table border=\"1\" class=\"dataframe\">\n",
              "  <thead>\n",
              "    <tr style=\"text-align: right;\">\n",
              "      <th></th>\n",
              "      <th>Средняя абсолютная процентная ошибка</th>\n",
              "    </tr>\n",
              "  </thead>\n",
              "  <tbody>\n",
              "    <tr>\n",
              "      <th>Валидационная выборка</th>\n",
              "      <td>0.075627</td>\n",
              "    </tr>\n",
              "    <tr>\n",
              "      <th>Тестовая выборка</th>\n",
              "      <td>0.075862</td>\n",
              "    </tr>\n",
              "  </tbody>\n",
              "</table>\n",
              "</div>"
            ],
            "text/plain": [
              "                       Средняя абсолютная процентная ошибка\n",
              "Валидационная выборка                              0.075627\n",
              "Тестовая выборка                                   0.075862"
            ]
          },
          "execution_count": 76,
          "metadata": {},
          "output_type": "execute_result"
        }
      ],
      "source": [
        "#оценим качество(mape) на валидационной и тестовой выборках\n",
        "pd.DataFrame([mean_absolute_percentage_error\\\n",
        "              (y_val, model.predict(X_val)),\n",
        "              mean_absolute_percentage_error\\\n",
        "              (y_test, model.predict(X_test))],\n",
        "             index=['Валидационная выборка', 'Тестовая выборка'],\n",
        "             columns=['Средняя абсолютная процентная ошибка'])"
      ]
    },
    {
      "cell_type": "code",
      "execution_count": null,
      "id": "04b124bd",
      "metadata": {
        "id": "04b124bd",
        "outputId": "acaeb8c1-85df-4791-8a70-0923254e101f"
      },
      "outputs": [
        {
          "name": "stdout",
          "output_type": "stream",
          "text": [
            "56/56 [==============================] - 0s 3ms/step\n",
            "501/501 [==============================] - 2s 3ms/step\n"
          ]
        },
        {
          "data": {
            "text/html": [
              "<div>\n",
              "<style scoped>\n",
              "    .dataframe tbody tr th:only-of-type {\n",
              "        vertical-align: middle;\n",
              "    }\n",
              "\n",
              "    .dataframe tbody tr th {\n",
              "        vertical-align: top;\n",
              "    }\n",
              "\n",
              "    .dataframe thead th {\n",
              "        text-align: right;\n",
              "    }\n",
              "</style>\n",
              "<table border=\"1\" class=\"dataframe\">\n",
              "  <thead>\n",
              "    <tr style=\"text-align: right;\">\n",
              "      <th></th>\n",
              "      <th>Корень из среднеквадратичной ошибки</th>\n",
              "    </tr>\n",
              "  </thead>\n",
              "  <tbody>\n",
              "    <tr>\n",
              "      <th>Валидационная выборка</th>\n",
              "      <td>516.953107</td>\n",
              "    </tr>\n",
              "    <tr>\n",
              "      <th>Тестовая выборка</th>\n",
              "      <td>548.971879</td>\n",
              "    </tr>\n",
              "  </tbody>\n",
              "</table>\n",
              "</div>"
            ],
            "text/plain": [
              "                       Корень из среднеквадратичной ошибки\n",
              "Валидационная выборка                           516.953107\n",
              "Тестовая выборка                                548.971879"
            ]
          },
          "execution_count": 77,
          "metadata": {},
          "output_type": "execute_result"
        }
      ],
      "source": [
        "#оценим качество(rmse) на валидационной и тестовой выборках\n",
        "pd.DataFrame([mean_squared_error\\\n",
        "              (y_val, model.predict(X_val), squared=False),\n",
        "              mean_squared_error\\\n",
        "              (y_test, model.predict(X_test), squared=False)],\n",
        "             index=['Валидационная выборка', 'Тестовая выборка'],\n",
        "             columns=['Корень из среднеквадратичной ошибки'])"
      ]
    },
    {
      "cell_type": "code",
      "execution_count": null,
      "id": "327ff9ed",
      "metadata": {
        "id": "327ff9ed",
        "outputId": "bcf9f053-0273-4ec5-b627-9edbdf0f4835"
      },
      "outputs": [
        {
          "name": "stdout",
          "output_type": "stream",
          "text": [
            "501/501 [==============================] - 2s 3ms/step\n",
            "501/501 [==============================] - 2s 3ms/step\n"
          ]
        }
      ],
      "source": [
        "#сохраним в отдельные переменные\n",
        "e1 = mean_absolute_percentage_error\\\n",
        "(y_test, model.predict(X_test))\n",
        "e2 =  mean_squared_error\\\n",
        "(y_test, model.predict(X_test), squared=False)"
      ]
    },
    {
      "cell_type": "markdown",
      "id": "7411aea5",
      "metadata": {
        "id": "7411aea5"
      },
      "source": [
        "<u>Видим что модель работает хуже чем catboost и случайный лес.</u>"
      ]
    },
    {
      "cell_type": "markdown",
      "id": "2ef4942c",
      "metadata": {
        "id": "2ef4942c"
      },
      "source": [
        "<h3><font color='dodgerblue'>СРАВНЕНИЕ МОДЕЛЕЙ</font></h3>"
      ]
    },
    {
      "cell_type": "code",
      "execution_count": null,
      "id": "54f40538",
      "metadata": {
        "id": "54f40538",
        "outputId": "0e7e0221-4938-452c-dd58-3b416e2f45d2"
      },
      "outputs": [
        {
          "data": {
            "image/png": "[encoded data removed]",
            "text/plain": [
              "<Figure size 1200x300 with 1 Axes>"
            ]
          },
          "metadata": {},
          "output_type": "display_data"
        }
      ],
      "source": [
        "#сравнение mape\n",
        "plt.figure(figsize=(12,3))\n",
        "\n",
        "x = ['Линейная регрессия', 'Метод опорных векторов',\n",
        "     'Случайный лес','Градиентный бустинг', 'Нейронная сеть']\n",
        "y = [np.round(a1, 3), np.round(b1, 3),\n",
        "     np.round(c1, 3), np.round(d1, 3), np.round(e1, 3)]\n",
        "plt.bar(x, y, color='crimson')\n",
        "def addlabels(x,y):\n",
        "    for i in range(len(x)):\n",
        "        plt.text(i,y[i]/2, y[i], ha='center',\n",
        "                 color='white', fontfamily='serif',\n",
        "                 fontsize=15)\n",
        "addlabels(x, y)\n",
        "plt.xlabel(\"Алгоритмы\", fontsize='14')\n",
        "plt.ylabel(\"MAPE\", fontsize='14')\n",
        "plt.show()"
      ]
    },
    {
      "cell_type": "markdown",
      "id": "c87f3b52",
      "metadata": {
        "id": "c87f3b52"
      },
      "source": [
        "<u>Как видим лучше всего справляется бустинг. Разница не очень большая между моделями, не считая линейной регрессии. Она показала довольно плохой результат.</u>"
      ]
    },
    {
      "cell_type": "code",
      "execution_count": null,
      "id": "bbba50b6",
      "metadata": {
        "id": "bbba50b6",
        "outputId": "2c502068-797c-4180-e000-19bcea882744"
      },
      "outputs": [
        {
          "data": {
            "image/png": "[encoded data removed]",
            "text/plain": [
              "<Figure size 1200x300 with 1 Axes>"
            ]
          },
          "metadata": {},
          "output_type": "display_data"
        }
      ],
      "source": [
        "#сравнение rmse\n",
        "plt.figure(figsize=(12,3))\n",
        "\n",
        "x = ['Линейная регрессия', 'Метод опорных векторов',\n",
        "     'Случайный лес','Градиентный бустинг', 'Нейронная сеть']\n",
        "y = [np.round(a2, 3), np.round(b2, 3),\n",
        "     np.round(c2, 3), np.round(d2, 3), np.round(e2, 3)]\n",
        "plt.bar(x, y, color='crimson')\n",
        "def addlabels(x,y):\n",
        "    for i in range(len(x)):\n",
        "        plt.text(i,y[i]/2, y[i], ha='center',\n",
        "                 color='white', fontfamily='serif',\n",
        "                 fontsize=15)\n",
        "addlabels(x, y)\n",
        "plt.xlabel(\"Алгоритмы\", fontsize='14')\n",
        "plt.ylabel(\"RMSE\", fontsize='14')\n",
        "plt.show()"
      ]
    },
    {
      "cell_type": "markdown",
      "id": "2f67c81e",
      "metadata": {
        "id": "2f67c81e"
      },
      "source": [
        "<u>Лучшее качество по rmse показывает опять таки бустинг. Случайный лес немного отстает от него.</u>"
      ]
    },
    {
      "cell_type": "markdown",
      "id": "dd1d397b",
      "metadata": {
        "id": "dd1d397b"
      },
      "source": [
        "<h3><font color='dodgerblue'>ИТОГ</font></h3>"
      ]
    },
    {
      "cell_type": "markdown",
      "id": "6b79f874",
      "metadata": {
        "id": "6b79f874"
      },
      "source": [
        "Лучше всего сработал бустинг, реализованный с помощью catboost. MAPE составляет на тестовых данных 0.079. Это отличный результат. А вот RMSE у нас 517. Насколько это хорошо? Как по мне отличным результатом это точно не назовешь, а вот 'хорошо' еще приемлимо. Тут надо отталкиваться от средней цены. Она у нас составляет 2.4 тыс долларов и ошибка в 500 долларов, как по мне ощутима. Будь 150 где-то, тогда была бы модель близкая к идеальной.\n",
        "<br>Возможно при должной доработке нейронная сеть будет показывать наилучший результат."
      ]
    }
  ],
  "metadata": {
    "kernelspec": {
      "display_name": "Python 3 (ipykernel)",
      "language": "python",
      "name": "python3"
    },
    "language_info": {
      "codemirror_mode": {
        "name": "ipython",
        "version": 3
      },
      "file_extension": ".py",
      "mimetype": "text/x-python",
      "name": "python",
      "nbconvert_exporter": "python",
      "pygments_lexer": "ipython3",
      "version": "3.10.12"
    },
    "colab": {
      "provenance": []
    }
  },
  "nbformat": 4,
  "nbformat_minor": 5
}